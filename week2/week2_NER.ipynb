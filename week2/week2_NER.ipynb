{
 "cells": [
  {
   "cell_type": "markdown",
   "metadata": {
    "colab_type": "text",
    "collapsed": true,
    "id": "6powzdbu6OeI"
   },
   "source": [
    "# Recognize named entities on Twitter with LSTMs\n",
    "\n",
    "In this assignment, you will use a recurrent neural network to solve Named Entity Recognition (NER) problem. NER is a common task in natural language processing systems. It serves for extraction such entities from the text as persons, organizations, locations, etc. In this task you will experiment to recognize named entities from Twitter.\n",
    "\n",
    "For example, we want to extract persons' and organizations' names from the text. Than for the input text:\n",
    "\n",
    "    Ian Goodfellow works for Google Brain\n",
    "\n",
    "a NER model needs to provide the following sequence of tags:\n",
    "\n",
    "    B-PER I-PER    O     O   B-ORG  I-ORG\n",
    "\n",
    "Where *B-* and *I-* prefixes stand for the beginning and inside of the entity, while *O* stands for out of tag or no tag. Markup with the prefix scheme is called *BIO markup*. This markup is introduced for distinguishing of consequent entities with similar types.\n",
    "\n",
    "A solution of the task will be based on neural networks, particularly, on Bi-Directional Long Short-Term Memory Networks (Bi-LSTMs).\n",
    "\n",
    "### Libraries\n",
    "\n",
    "For this task you will need the following libraries:\n",
    " - [Tensorflow](https://www.tensorflow.org) — an open-source software library for Machine Intelligence.\n",
    " \n",
    "In this assignment, we use Tensorflow 1.15.0. You can install it with pip:\n",
    "\n",
    "    !pip install tensorflow==1.15.0\n",
    "     \n",
    " - [Numpy](http://www.numpy.org) — a package for scientific computing.\n",
    " \n",
    "If you have never worked with Tensorflow, you would probably need to read some tutorials during your work on this assignment, e.g. [this one](https://www.tensorflow.org/tutorials/recurrent) could be a good starting point. "
   ]
  },
  {
   "cell_type": "markdown",
   "metadata": {
    "colab_type": "text",
    "id": "ghivizh26OeL"
   },
   "source": [
    "### Data\n",
    "\n",
    "The following cell will download all data required for this assignment into the folder `week2/data`."
   ]
  },
  {
   "cell_type": "code",
   "execution_count": 2,
   "metadata": {
    "colab": {
     "base_uri": "https://localhost:8080/",
     "height": 0
    },
    "colab_type": "code",
    "id": "PIyb9Bks6OeN",
    "outputId": "e34255e5-231e-4c2c-beae-a1480af47ce4"
   },
   "outputs": [
    {
     "name": "stdout",
     "output_type": "stream",
     "text": [
      "--2020-08-30 04:04:25--  https://raw.githubusercontent.com/hse-aml/natural-language-processing/master/setup_google_colab.py\n",
      "Resolving raw.githubusercontent.com (raw.githubusercontent.com)... 151.101.0.133, 151.101.64.133, 151.101.128.133, ...\n",
      "Connecting to raw.githubusercontent.com (raw.githubusercontent.com)|151.101.0.133|:443... connected.\n",
      "HTTP request sent, awaiting response... 200 OK\n",
      "Length: 1939 (1.9K) [text/plain]\n",
      "Saving to: ‘setup_google_colab.py’\n",
      "\n",
      "setup_google_colab. 100%[===================>]   1.89K  --.-KB/s    in 0s      \n",
      "\n",
      "2020-08-30 04:04:25 (33.0 MB/s) - ‘setup_google_colab.py’ saved [1939/1939]\n",
      "\n",
      "File data/train.txt is already downloaded.\n",
      "File data/validation.txt is already downloaded.\n",
      "File data/test.txt is already downloaded.\n"
     ]
    }
   ],
   "source": [
    "try:\n",
    "    import google.colab\n",
    "    IN_COLAB = True\n",
    "except:\n",
    "    IN_COLAB = False\n",
    "\n",
    "if IN_COLAB:\n",
    "    ! wget https://raw.githubusercontent.com/hse-aml/natural-language-processing/master/setup_google_colab.py -O setup_google_colab.py\n",
    "    import setup_google_colab\n",
    "    setup_google_colab.setup_week2()\n",
    "\n",
    "import sys\n",
    "sys.path.append(\"..\")\n",
    "from common.download_utils import download_week2_resources\n",
    "\n",
    "download_week2_resources()"
   ]
  },
  {
   "cell_type": "markdown",
   "metadata": {
    "colab_type": "text",
    "id": "y0080OLR6OeZ"
   },
   "source": [
    "### Load the Twitter Named Entity Recognition corpus\n",
    "\n",
    "We will work with a corpus, which contains tweets with NE tags. Every line of a file contains a pair of a token (word/punctuation symbol) and a tag, separated by a whitespace. Different tweets are separated by an empty line.\n",
    "\n",
    "The function *read_data* reads a corpus from the *file_path* and returns two lists: one with tokens and one with the corresponding tags. You need to complete this function by adding a code, which will replace a user's nickname to `<USR>` token and any URL to `<URL>` token. You could think that a URL and a nickname are just strings which start with *http://* or *https://* in case of URLs and a *@* symbol for nicknames."
   ]
  },
  {
   "cell_type": "code",
   "execution_count": 3,
   "metadata": {
    "colab": {},
    "colab_type": "code",
    "id": "57eBc9xG6Oea"
   },
   "outputs": [],
   "source": [
    "import re\n",
    "import numpy as np\n",
    "\n",
    "def read_data(file_path):\n",
    "    tokens = []\n",
    "    tags = []\n",
    "    \n",
    "    tweet_tokens = []\n",
    "    tweet_tags = []\n",
    "    for line in open(file_path, encoding='utf-8'):\n",
    "        line = line.strip()\n",
    "        if not line:\n",
    "            if tweet_tokens:\n",
    "                tokens.append(tweet_tokens)\n",
    "                tags.append(tweet_tags)\n",
    "            tweet_tokens = []\n",
    "            tweet_tags = []\n",
    "        else:\n",
    "            token, tag = line.split()\n",
    "            token =  re.sub(r'\\b(http|https|ftp)://(\\w*.\\w*)+', '<URL>', token) \n",
    "            token = re.sub('@\\w+', '<USR>', token)\n",
    "            tweet_tokens.append(token)\n",
    "            tweet_tags.append(tag)\n",
    "    return tokens, tags"
   ]
  },
  {
   "cell_type": "markdown",
   "metadata": {
    "colab_type": "text",
    "id": "WzKt9rNA6Oeg"
   },
   "source": [
    "And now we can load three separate parts of the dataset:\n",
    " - *train* data for training the model;\n",
    " - *validation* data for evaluation and hyperparameters tuning;\n",
    " - *test* data for final evaluation of the model."
   ]
  },
  {
   "cell_type": "code",
   "execution_count": 4,
   "metadata": {
    "colab": {},
    "colab_type": "code",
    "id": "cRHi2h2d6Oej"
   },
   "outputs": [],
   "source": [
    "train_tokens, train_tags = read_data('data/train.txt')\n",
    "validation_tokens, validation_tags = read_data('data/validation.txt')\n",
    "test_tokens, test_tags = read_data('data/test.txt')"
   ]
  },
  {
   "cell_type": "markdown",
   "metadata": {
    "colab_type": "text",
    "id": "cF4Mj7t76Oen"
   },
   "source": [
    "You should always understand what kind of data you deal with. For this purpose, you can print the data running the following cell:"
   ]
  },
  {
   "cell_type": "code",
   "execution_count": 5,
   "metadata": {
    "colab": {
     "base_uri": "https://localhost:8080/",
     "height": 0
    },
    "colab_type": "code",
    "id": "4NawsJBA6Oep",
    "outputId": "3a1ffc00-b79d-422e-b664-09ac11a4bb8e"
   },
   "outputs": [
    {
     "name": "stdout",
     "output_type": "stream",
     "text": [
      "RT\tO\n",
      "<USR>\tO\n",
      ":\tO\n",
      "Online\tO\n",
      "ticket\tO\n",
      "sales\tO\n",
      "for\tO\n",
      "Ghostland\tB-musicartist\n",
      "Observatory\tI-musicartist\n",
      "extended\tO\n",
      "until\tO\n",
      "6\tO\n",
      "PM\tO\n",
      "EST\tO\n",
      "due\tO\n",
      "to\tO\n",
      "high\tO\n",
      "demand\tO\n",
      ".\tO\n",
      "Get\tO\n",
      "them\tO\n",
      "before\tO\n",
      "they\tO\n",
      "sell\tO\n",
      "out\tO\n",
      "...\tO\n",
      "\n",
      "Apple\tB-product\n",
      "MacBook\tI-product\n",
      "Pro\tI-product\n",
      "A1278\tI-product\n",
      "13.3\tI-product\n",
      "\"\tI-product\n",
      "Laptop\tI-product\n",
      "-\tI-product\n",
      "MD101LL/A\tI-product\n",
      "(\tO\n",
      "June\tO\n",
      ",\tO\n",
      "2012\tO\n",
      ")\tO\n",
      "-\tO\n",
      "Full\tO\n",
      "read\tO\n",
      "by\tO\n",
      "eBay\tB-company\n",
      "<URL>\tO\n",
      "<URL>\tO\n",
      "\n",
      "Happy\tO\n",
      "Birthday\tO\n",
      "<USR>\tO\n",
      "!\tO\n",
      "May\tO\n",
      "Allah\tB-person\n",
      "s.w.t\tO\n",
      "bless\tO\n",
      "you\tO\n",
      "with\tO\n",
      "goodness\tO\n",
      "and\tO\n",
      "happiness\tO\n",
      ".\tO\n",
      "\n"
     ]
    }
   ],
   "source": [
    "for i in range(3):\n",
    "    for token, tag in zip(train_tokens[i], train_tags[i]):\n",
    "        print('%s\\t%s' % (token, tag))\n",
    "    print()"
   ]
  },
  {
   "cell_type": "markdown",
   "metadata": {
    "colab_type": "text",
    "id": "fZWyf9Vw6Oeu"
   },
   "source": [
    "### Prepare dictionaries\n",
    "\n",
    "To train a neural network, we will use two mappings: \n",
    "- {token}$\\to${token id}: address the row in embeddings matrix for the current token;\n",
    "- {tag}$\\to${tag id}: one-hot ground truth probability distribution vectors for computing the loss at the output of the network.\n",
    "\n",
    "Now you need to implement the function *build_dict* which will return {token or tag}$\\to${index} and vice versa. "
   ]
  },
  {
   "cell_type": "markdown",
   "metadata": {
    "colab_type": "text",
    "id": "DuFSt38UaeXv"
   },
   "source": [
    "for tokens in train_tokens:\n",
    "    for token in tokens:\n",
    "        if token not in g: \n",
    "            g[token]=k \n",
    "            k += 1\n",
    "            id.append(token)"
   ]
  },
  {
   "cell_type": "code",
   "execution_count": 6,
   "metadata": {
    "colab": {},
    "colab_type": "code",
    "id": "1J60DgVA6Oex"
   },
   "outputs": [],
   "source": [
    "from collections import defaultdict, Counter"
   ]
  },
  {
   "cell_type": "code",
   "execution_count": 7,
   "metadata": {
    "colab": {},
    "colab_type": "code",
    "id": "bUGqhkev6Oe5"
   },
   "outputs": [],
   "source": [
    "def build_dict(tokens_or_tags, special_tokens):\n",
    "    \"\"\"\n",
    "        tokens_or_tags: a list of lists of tokens or tags\n",
    "        special_tokens: some special tokens\n",
    "    \"\"\"\n",
    "    # Create a dictionary with default value 0\n",
    "    tok2idx = defaultdict(lambda: 0)\n",
    "    idx2tok = []\n",
    "    i=0   \n",
    "    for token in special_tokens:\n",
    "        tok2idx[token] = i\n",
    "        idx2tok.append(token)\n",
    "        i+=1\n",
    "    for tokens in tokens_or_tags:\n",
    "        for token in tokens:\n",
    "            if token not in tok2idx:\n",
    "                tok2idx[token] = i\n",
    "                idx2tok.append(token)\n",
    "                i+=1\n",
    "    return tok2idx, idx2tok\n"
   ]
  },
  {
   "cell_type": "markdown",
   "metadata": {
    "colab_type": "text",
    "id": "UzBzhzb56Oe7"
   },
   "source": [
    "After implementing the function *build_dict* you can make dictionaries for tokens and tags. Special tokens in our case will be:\n",
    " - `<UNK>` token for out of vocabulary tokens;\n",
    " - `<PAD>` token for padding sentence to the same length when we create batches of sentences."
   ]
  },
  {
   "cell_type": "code",
   "execution_count": 8,
   "metadata": {
    "colab": {},
    "colab_type": "code",
    "id": "S9bpQ89l6Oe8"
   },
   "outputs": [],
   "source": [
    "special_tokens = ['<UNK>', '<PAD>']\n",
    "special_tags = ['O']\n",
    "\n",
    "# Create dictionaries \n",
    "token2idx, idx2token = build_dict(train_tokens + validation_tokens, special_tokens)\n",
    "tag2idx, idx2tag = build_dict(train_tags, special_tags)"
   ]
  },
  {
   "cell_type": "code",
   "execution_count": 9,
   "metadata": {
    "colab": {},
    "colab_type": "code",
    "id": "SYZN-Tli7GKx"
   },
   "outputs": [],
   "source": [
    "num_classes = len(tag2idx) # no of unique classes\n",
    "num_words = len(token2idx) # no of unique words\n",
    "classes = list(tag2idx.keys())"
   ]
  },
  {
   "cell_type": "code",
   "execution_count": 10,
   "metadata": {
    "colab": {
     "base_uri": "https://localhost:8080/",
     "height": 0
    },
    "colab_type": "code",
    "id": "9F_Tew6M60Hh",
    "outputId": "827801ad-6d2d-41dd-8efc-799238d54043"
   },
   "outputs": [
    {
     "data": {
      "text/plain": [
       "['O',\n",
       " 'B-musicartist',\n",
       " 'I-musicartist',\n",
       " 'B-product',\n",
       " 'I-product',\n",
       " 'B-company',\n",
       " 'B-person',\n",
       " 'B-other',\n",
       " 'I-other',\n",
       " 'B-facility',\n",
       " 'I-facility',\n",
       " 'B-sportsteam',\n",
       " 'B-geo-loc',\n",
       " 'I-geo-loc',\n",
       " 'I-company',\n",
       " 'I-person',\n",
       " 'B-movie',\n",
       " 'I-movie',\n",
       " 'B-tvshow',\n",
       " 'I-tvshow',\n",
       " 'I-sportsteam']"
      ]
     },
     "execution_count": 10,
     "metadata": {
      "tags": []
     },
     "output_type": "execute_result"
    }
   ],
   "source": [
    "classes"
   ]
  },
  {
   "cell_type": "code",
   "execution_count": 11,
   "metadata": {
    "colab": {},
    "colab_type": "code",
    "id": "dWuSw4a_WGuU"
   },
   "outputs": [],
   "source": [
    "def words2idxs(tokens_list):\n",
    "    return [token2idx[word] for word in tokens_list]\n",
    "\n",
    "def tags2idxs(tags_list):\n",
    "    return [tag2idx[tag] for tag in tags_list]\n",
    "\n",
    "def idxs2words(idxs):\n",
    "    return [idx2token[idx] for idx in idxs]\n",
    "\n",
    "def idxs2tags(idxs):\n",
    "    return [idx2tag[idx] for idx in idxs]"
   ]
  },
  {
   "cell_type": "markdown",
   "metadata": {
    "colab_type": "text",
    "id": "OWo6UOxACb70"
   },
   "source": [
    "# Tensorflow 2.0 upgrade"
   ]
  },
  {
   "cell_type": "markdown",
   "metadata": {
    "colab_type": "text",
    "id": "stndCPfX5qrl"
   },
   "source": [
    "## Training "
   ]
  },
  {
   "cell_type": "code",
   "execution_count": 12,
   "metadata": {
    "colab": {
     "base_uri": "https://localhost:8080/",
     "height": 531
    },
    "colab_type": "code",
    "id": "FkRPMYPxokic",
    "outputId": "e1186863-b6bd-4d5b-e84e-99b7e3deb26b"
   },
   "outputs": [
    {
     "name": "stdout",
     "output_type": "stream",
     "text": [
      "Requirement already satisfied: livelossplot in /usr/local/lib/python3.6/dist-packages (0.5.3)\n",
      "Requirement already satisfied: matplotlib; python_version >= \"3.6\" in /usr/local/lib/python3.6/dist-packages (from livelossplot) (3.2.2)\n",
      "Requirement already satisfied: ipython in /usr/local/lib/python3.6/dist-packages (from livelossplot) (5.5.0)\n",
      "Requirement already satisfied: bokeh; python_version >= \"3.6\" in /usr/local/lib/python3.6/dist-packages (from livelossplot) (2.1.1)\n",
      "Requirement already satisfied: pyparsing!=2.0.4,!=2.1.2,!=2.1.6,>=2.0.1 in /usr/local/lib/python3.6/dist-packages (from matplotlib; python_version >= \"3.6\"->livelossplot) (2.4.7)\n",
      "Requirement already satisfied: numpy>=1.11 in /usr/local/lib/python3.6/dist-packages (from matplotlib; python_version >= \"3.6\"->livelossplot) (1.19.1)\n",
      "Requirement already satisfied: kiwisolver>=1.0.1 in /usr/local/lib/python3.6/dist-packages (from matplotlib; python_version >= \"3.6\"->livelossplot) (1.2.0)\n",
      "Requirement already satisfied: python-dateutil>=2.1 in /usr/local/lib/python3.6/dist-packages (from matplotlib; python_version >= \"3.6\"->livelossplot) (2.6.1)\n",
      "Requirement already satisfied: cycler>=0.10 in /usr/local/lib/python3.6/dist-packages (from matplotlib; python_version >= \"3.6\"->livelossplot) (0.10.0)\n",
      "Requirement already satisfied: traitlets>=4.2 in /usr/local/lib/python3.6/dist-packages (from ipython->livelossplot) (4.3.3)\n",
      "Requirement already satisfied: pexpect; sys_platform != \"win32\" in /usr/local/lib/python3.6/dist-packages (from ipython->livelossplot) (4.8.0)\n",
      "Requirement already satisfied: prompt-toolkit<2.0.0,>=1.0.4 in /usr/local/lib/python3.6/dist-packages (from ipython->livelossplot) (1.0.18)\n",
      "Requirement already satisfied: decorator in /usr/local/lib/python3.6/dist-packages (from ipython->livelossplot) (4.4.2)\n",
      "Requirement already satisfied: setuptools>=18.5 in /usr/local/lib/python3.6/dist-packages (from ipython->livelossplot) (49.6.0)\n",
      "Requirement already satisfied: pickleshare in /usr/local/lib/python3.6/dist-packages (from ipython->livelossplot) (0.7.5)\n",
      "Requirement already satisfied: pygments in /usr/local/lib/python3.6/dist-packages (from ipython->livelossplot) (2.1.3)\n",
      "Requirement already satisfied: simplegeneric>0.8 in /usr/local/lib/python3.6/dist-packages (from ipython->livelossplot) (0.8.1)\n",
      "Requirement already satisfied: Jinja2>=2.7 in /usr/local/lib/python3.6/dist-packages (from bokeh; python_version >= \"3.6\"->livelossplot) (2.11.2)\n",
      "Requirement already satisfied: tornado>=5.1 in /usr/local/lib/python3.6/dist-packages (from bokeh; python_version >= \"3.6\"->livelossplot) (5.1.1)\n",
      "Requirement already satisfied: typing-extensions>=3.7.4 in /usr/local/lib/python3.6/dist-packages (from bokeh; python_version >= \"3.6\"->livelossplot) (3.7.4.3)\n",
      "Requirement already satisfied: packaging>=16.8 in /usr/local/lib/python3.6/dist-packages (from bokeh; python_version >= \"3.6\"->livelossplot) (20.4)\n",
      "Requirement already satisfied: PyYAML>=3.10 in /usr/local/lib/python3.6/dist-packages (from bokeh; python_version >= \"3.6\"->livelossplot) (3.13)\n",
      "Requirement already satisfied: pillow>=4.0 in /usr/local/lib/python3.6/dist-packages (from bokeh; python_version >= \"3.6\"->livelossplot) (7.0.0)\n",
      "Requirement already satisfied: six>=1.5 in /usr/local/lib/python3.6/dist-packages (from python-dateutil>=2.1->matplotlib; python_version >= \"3.6\"->livelossplot) (1.15.0)\n",
      "Requirement already satisfied: ipython-genutils in /usr/local/lib/python3.6/dist-packages (from traitlets>=4.2->ipython->livelossplot) (0.2.0)\n",
      "Requirement already satisfied: ptyprocess>=0.5 in /usr/local/lib/python3.6/dist-packages (from pexpect; sys_platform != \"win32\"->ipython->livelossplot) (0.6.0)\n",
      "Requirement already satisfied: wcwidth in /usr/local/lib/python3.6/dist-packages (from prompt-toolkit<2.0.0,>=1.0.4->ipython->livelossplot) (0.2.5)\n",
      "Requirement already satisfied: MarkupSafe>=0.23 in /usr/local/lib/python3.6/dist-packages (from Jinja2>=2.7->bokeh; python_version >= \"3.6\"->livelossplot) (1.1.1)\n"
     ]
    }
   ],
   "source": [
    "!pip install livelossplot\n",
    "import matplotlib.pyplot as plt\n",
    "from tensorflow.keras import Model,Input\n",
    "from tensorflow.keras.layers import Bidirectional ,LSTM, Dense,Flatten, Embedding, TimeDistributed,BatchNormalization\n",
    "from tensorflow.keras.models import Sequential\n",
    "from tensorflow.keras.preprocessing.text import Tokenizer\n",
    "from tensorflow.keras.preprocessing import timeseries_dataset_from_array\n",
    "from tensorflow.keras.preprocessing.sequence import pad_sequences\n",
    "from tensorflow.keras.initializers import glorot_uniform, Identity\n",
    "from tensorflow.keras.utils import to_categorical\n",
    "from tensorflow.keras.callbacks import ModelCheckpoint, EarlyStopping\n",
    "from livelossplot import PlotLossesKeras\n",
    "from tensorflow.keras.optimizers import Adam,SGD\n",
    "from tensorflow.keras.optimizers.schedules import ExponentialDecay\n"
   ]
  },
  {
   "cell_type": "code",
   "execution_count": 12,
   "metadata": {
    "colab": {
     "base_uri": "https://localhost:8080/",
     "height": 265
    },
    "colab_type": "code",
    "id": "HIXV2D54avDz",
    "outputId": "ba27f92e-6ce7-4e2a-bc75-13c9518d7cd0"
   },
   "outputs": [
    {
     "data": {
      "image/png": "[encoded data removed]",
      "text/plain": [
       "<Figure size 432x288 with 1 Axes>"
      ]
     },
     "metadata": {
      "needs_background": "light",
      "tags": []
     },
     "output_type": "display_data"
    }
   ],
   "source": [
    "\"\"\"\n",
    "Heuristic to check how much max length would be good for padded sentence\n",
    "\"\"\"\n",
    "plt.hist([len(i) for i in train_tokens ], bins=20)\n",
    "plt.show()"
   ]
  },
  {
   "cell_type": "code",
   "execution_count": 13,
   "metadata": {
    "colab": {},
    "colab_type": "code",
    "id": "p09C8l_bspg6"
   },
   "outputs": [],
   "source": [
    "\"\"\"\n",
    "Build and pads tokens \n",
    "\n",
    "\"\"\"\n",
    "\n",
    "max_len = 45\n",
    "def pad_data(token_to_index, tokens, tag_to_index, tags, max_len=max_len):\n",
    "    X = [[token_to_index[word] for word in sent] for sent in tokens]\n",
    "    X = pad_sequences(sequences=X, maxlen=max_len, padding='post', value=num_words-1)\n",
    "\n",
    "    y = [[tag_to_index[tag] for tag in tags] for tags in tags]\n",
    "    y = pad_sequences(sequences=y, maxlen=max_len, padding='post', value=tag_to_index['O'])\n",
    "    y = to_categorical(y, num_classes=num_classes)\n",
    "    return X, y\n",
    "\n",
    "\n",
    "X_train, y_train = pad_data(token2idx, train_tokens, tag2idx, train_tags, max_len=40)\n",
    "X_validation, y_validation = pad_data(token2idx, validation_tokens, tag2idx, validation_tags,max_len=40)\n",
    "X_test, y_test = pad_data(token2idx, test_tokens, tag2idx, test_tags, max_len=40)"
   ]
  },
  {
   "cell_type": "code",
   "execution_count": 14,
   "metadata": {
    "colab": {},
    "colab_type": "code",
    "id": "TtN6pcd99RC5"
   },
   "outputs": [],
   "source": [
    "#build model\n",
    "\n",
    "def build_model(optim, input_dim=num_words, output_dim=max_len):\n",
    "    input = Input(shape=(None,))\n",
    "    embd = Embedding(input_dim=input_dim, output_dim=output_dim, input_length=output_dim, mask_zero=True )(input)\n",
    "    m = Bidirectional(LSTM(units=100,  return_sequences=True))(embd)\n",
    "    m = Bidirectional(LSTM(units=100, return_sequences=True))(m)\n",
    "    m = Bidirectional(LSTM(units=100, return_sequences=True))(m)\n",
    "    m = Dense(units=num_classes, activation='softmax')(m)\n",
    "    m = Model(input, m)\n",
    "    m.compile(optimizer=optim, loss='categorical_crossentropy', metrics=['accuracy'])\n",
    "    m.summary()\n",
    "    return m\n"
   ]
  },
  {
   "cell_type": "code",
   "execution_count": 25,
   "metadata": {
    "colab": {
     "base_uri": "https://localhost:8080/",
     "height": 1000
    },
    "colab_type": "code",
    "id": "ipc7oflRxeRf",
    "outputId": "b9c53d93-2124-4cbb-b119-edd9866b2384",
    "scrolled": true
   },
   "outputs": [
    {
     "name": "stdout",
     "output_type": "stream",
     "text": [
      "Model: \"functional_13\"\n",
      "_________________________________________________________________\n",
      "Layer (type)                 Output Shape              Param #   \n",
      "=================================================================\n",
      "input_8 (InputLayer)         [(None, None)]            0         \n",
      "_________________________________________________________________\n",
      "embedding_7 (Embedding)      (None, None, 45)          922185    \n",
      "_________________________________________________________________\n",
      "bidirectional_19 (Bidirectio (None, None, 200)         116800    \n",
      "_________________________________________________________________\n",
      "bidirectional_20 (Bidirectio (None, None, 200)         240800    \n",
      "_________________________________________________________________\n",
      "bidirectional_21 (Bidirectio (None, None, 200)         240800    \n",
      "_________________________________________________________________\n",
      "dense_6 (Dense)              (None, None, 21)          4221      \n",
      "=================================================================\n",
      "Total params: 1,524,806\n",
      "Trainable params: 1,524,806\n",
      "Non-trainable params: 0\n",
      "_________________________________________________________________\n",
      "Model: \"functional_15\"\n",
      "_________________________________________________________________\n",
      "Layer (type)                 Output Shape              Param #   \n",
      "=================================================================\n",
      "input_9 (InputLayer)         [(None, None)]            0         \n",
      "_________________________________________________________________\n",
      "embedding_8 (Embedding)      (None, None, 45)          922185    \n",
      "_________________________________________________________________\n",
      "bidirectional_22 (Bidirectio (None, None, 200)         116800    \n",
      "_________________________________________________________________\n",
      "bidirectional_23 (Bidirectio (None, None, 200)         240800    \n",
      "_________________________________________________________________\n",
      "bidirectional_24 (Bidirectio (None, None, 200)         240800    \n",
      "_________________________________________________________________\n",
      "dense_7 (Dense)              (None, None, 21)          4221      \n",
      "=================================================================\n",
      "Total params: 1,524,806\n",
      "Trainable params: 1,524,806\n",
      "Non-trainable params: 0\n",
      "_________________________________________________________________\n",
      "Model: \"functional_17\"\n",
      "_________________________________________________________________\n",
      "Layer (type)                 Output Shape              Param #   \n",
      "=================================================================\n",
      "input_10 (InputLayer)        [(None, None)]            0         \n",
      "_________________________________________________________________\n",
      "embedding_9 (Embedding)      (None, None, 45)          922185    \n",
      "_________________________________________________________________\n",
      "bidirectional_25 (Bidirectio (None, None, 200)         116800    \n",
      "_________________________________________________________________\n",
      "bidirectional_26 (Bidirectio (None, None, 200)         240800    \n",
      "_________________________________________________________________\n",
      "bidirectional_27 (Bidirectio (None, None, 200)         240800    \n",
      "_________________________________________________________________\n",
      "dense_8 (Dense)              (None, None, 21)          4221      \n",
      "=================================================================\n",
      "Total params: 1,524,806\n",
      "Trainable params: 1,524,806\n",
      "Non-trainable params: 0\n",
      "_________________________________________________________________\n",
      "Model: \"functional_19\"\n",
      "_________________________________________________________________\n",
      "Layer (type)                 Output Shape              Param #   \n",
      "=================================================================\n",
      "input_11 (InputLayer)        [(None, None)]            0         \n",
      "_________________________________________________________________\n",
      "embedding_10 (Embedding)     (None, None, 45)          922185    \n",
      "_________________________________________________________________\n",
      "bidirectional_28 (Bidirectio (None, None, 200)         116800    \n",
      "_________________________________________________________________\n",
      "bidirectional_29 (Bidirectio (None, None, 200)         240800    \n",
      "_________________________________________________________________\n",
      "bidirectional_30 (Bidirectio (None, None, 200)         240800    \n",
      "_________________________________________________________________\n",
      "dense_9 (Dense)              (None, None, 21)          4221      \n",
      "=================================================================\n",
      "Total params: 1,524,806\n",
      "Trainable params: 1,524,806\n",
      "Non-trainable params: 0\n",
      "_________________________________________________________________\n",
      "Model: \"functional_21\"\n",
      "_________________________________________________________________\n",
      "Layer (type)                 Output Shape              Param #   \n",
      "=================================================================\n",
      "input_12 (InputLayer)        [(None, None)]            0         \n",
      "_________________________________________________________________\n",
      "embedding_11 (Embedding)     (None, None, 45)          922185    \n",
      "_________________________________________________________________\n",
      "bidirectional_31 (Bidirectio (None, None, 200)         116800    \n",
      "_________________________________________________________________\n",
      "bidirectional_32 (Bidirectio (None, None, 200)         240800    \n",
      "_________________________________________________________________\n",
      "bidirectional_33 (Bidirectio (None, None, 200)         240800    \n",
      "_________________________________________________________________\n",
      "dense_10 (Dense)             (None, None, 21)          4221      \n",
      "=================================================================\n",
      "Total params: 1,524,806\n",
      "Trainable params: 1,524,806\n",
      "Non-trainable params: 0\n",
      "_________________________________________________________________\n",
      "Model: \"functional_23\"\n",
      "_________________________________________________________________\n",
      "Layer (type)                 Output Shape              Param #   \n",
      "=================================================================\n",
      "input_13 (InputLayer)        [(None, None)]            0         \n",
      "_________________________________________________________________\n",
      "embedding_12 (Embedding)     (None, None, 45)          922185    \n",
      "_________________________________________________________________\n",
      "bidirectional_34 (Bidirectio (None, None, 200)         116800    \n",
      "_________________________________________________________________\n",
      "bidirectional_35 (Bidirectio (None, None, 200)         240800    \n",
      "_________________________________________________________________\n",
      "bidirectional_36 (Bidirectio (None, None, 200)         240800    \n",
      "_________________________________________________________________\n",
      "dense_11 (Dense)             (None, None, 21)          4221      \n",
      "=================================================================\n",
      "Total params: 1,524,806\n",
      "Trainable params: 1,524,806\n",
      "Non-trainable params: 0\n",
      "_________________________________________________________________\n",
      "Model: \"functional_25\"\n",
      "_________________________________________________________________\n",
      "Layer (type)                 Output Shape              Param #   \n",
      "=================================================================\n",
      "input_14 (InputLayer)        [(None, None)]            0         \n",
      "_________________________________________________________________\n",
      "embedding_13 (Embedding)     (None, None, 45)          922185    \n",
      "_________________________________________________________________\n",
      "bidirectional_37 (Bidirectio (None, None, 200)         116800    \n",
      "_________________________________________________________________\n",
      "bidirectional_38 (Bidirectio (None, None, 200)         240800    \n",
      "_________________________________________________________________\n",
      "bidirectional_39 (Bidirectio (None, None, 200)         240800    \n",
      "_________________________________________________________________\n",
      "dense_12 (Dense)             (None, None, 21)          4221      \n",
      "=================================================================\n",
      "Total params: 1,524,806\n",
      "Trainable params: 1,524,806\n",
      "Non-trainable params: 0\n",
      "_________________________________________________________________\n",
      "Model: \"functional_27\"\n",
      "_________________________________________________________________\n",
      "Layer (type)                 Output Shape              Param #   \n",
      "=================================================================\n",
      "input_15 (InputLayer)        [(None, None)]            0         \n",
      "_________________________________________________________________\n",
      "embedding_14 (Embedding)     (None, None, 45)          922185    \n",
      "_________________________________________________________________\n",
      "bidirectional_40 (Bidirectio (None, None, 200)         116800    \n",
      "_________________________________________________________________\n",
      "bidirectional_41 (Bidirectio (None, None, 200)         240800    \n",
      "_________________________________________________________________\n",
      "bidirectional_42 (Bidirectio (None, None, 200)         240800    \n",
      "_________________________________________________________________\n",
      "dense_13 (Dense)             (None, None, 21)          4221      \n",
      "=================================================================\n",
      "Total params: 1,524,806\n",
      "Trainable params: 1,524,806\n",
      "Non-trainable params: 0\n",
      "_________________________________________________________________\n"
     ]
    }
   ],
   "source": [
    "# model1 adam\n",
    "\n",
    "lr_schedule = ExponentialDecay(\n",
    "initial_learning_rate=1e-2,\n",
    "decay_steps=10000,\n",
    "decay_rate=0.9\n",
    ")\n",
    "optimizer = Adam(learning_rate=lr_schedule)\n",
    "model1 = build_model(optim=optimizer)\n",
    "\n",
    "models = {}\n",
    "optims = ['sgd','rmsprop','nadam', 'adadelta', 'adagrad','adamax', 'ftrl']\n",
    "\n",
    "for o in optims:\n",
    "    models[o] = build_model(optim=o)\n"
   ]
  },
  {
   "cell_type": "code",
   "execution_count": 15,
   "metadata": {
    "colab": {},
    "colab_type": "code",
    "id": "ZVUz7k773myP"
   },
   "outputs": [],
   "source": [
    "#evaluation functions\n",
    "def evaluate(m):\n",
    "    train_loss, train_acc = m.evaluate(X_train, y_train, verbose=0)\n",
    "    test_loss, test_acc = m.evaluate(X_test,y_test, verbose=0)\n",
    "    validation_loss, validation_acc = m.evaluate(X_validation,y_validation, verbose=0)\n",
    "    test_results = predict(m, test_tokens, test_tags)\n",
    "    print(f\"Training accuracy: {train_acc} Training loss:  {train_loss}\\n\")\n",
    "    print(f\"Validation accuracy: {validation_acc} Validation loss: {validation_loss}\\n\")\n",
    "    print(f\"Testing accuracy: {test_acc} Testing loss: {train_loss}\")\n",
    "\n",
    "from evaluation import precision_recall_f1\n",
    "\n",
    "def predict(m, tokens, tags, short_report=False):\n",
    "    y_true = []\n",
    "    y_pred = []\n",
    "    for i,t in enumerate(tokens):\n",
    "        word_index = [[token2idx[word] for word in t]]\n",
    "        predicted = np.argmax(m.predict(word_index), axis=-1)[0]\n",
    "        y_pred+=[classes[i] for i in predicted]\n",
    "        y_true+=tags[i]\n",
    "        # print(y_pred, y_true, sep='\\n')\n",
    "    results = precision_recall_f1(y_true, y_pred, print_results=True, short_report=short_report)\n",
    "\n",
    "    return results\n"
   ]
  },
  {
   "cell_type": "code",
   "execution_count": 28,
   "metadata": {
    "colab": {
     "base_uri": "https://localhost:8080/",
     "height": 1000
    },
    "colab_type": "code",
    "id": "rjSI2eu40wfp",
    "outputId": "98dabbf2-c37b-4724-83a8-9258dbb6d475"
   },
   "outputs": [
    {
     "data": {
      "image/png": "[encoded data removed]",
      "text/plain": [
       "<Figure size 864x576 with 2 Axes>"
      ]
     },
     "metadata": {
      "needs_background": "light",
      "tags": []
     },
     "output_type": "display_data"
    },
    {
     "name": "stdout",
     "output_type": "stream",
     "text": [
      "accuracy\n",
      "\ttraining         \t (min:    0.963, max:    0.994, cur:    0.994)\n",
      "\tvalidation       \t (min:    0.969, max:    0.974, cur:    0.969)\n",
      "Loss\n",
      "\ttraining         \t (min:    0.022, max:    0.229, cur:    0.022)\n",
      "\tvalidation       \t (min:    0.124, max:    0.162, cur:    0.156)\n",
      "\b\b\b\b\b\b\b\b\b\b\b\b\b\b\b\b\b\b\b\b\b\b\b\b\b\b\b\b\b\b\b\b\b\b\b\b\b\b\b\b\b\b\b\b\b\b\b\b\b\b\b\b\b\b\b\b\b\b\b\b\b\b\b\b\b\b\b\b\b\b\b\b\b\b\b\b\b\b\b\b\b\b\b\b\r",
      "232/232 [==============================] - 48s 206ms/step - loss: 0.0220 - accuracy: 0.9938 - val_loss: 0.1556 - val_accuracy: 0.9694\n",
      "processed 12534 tokens with 604 phrases; found: 440 phrases; correct: 183.\n",
      "\n",
      "precision:  41.59%; recall:  30.30%; F1:  35.06\n",
      "\n",
      "\t     company: precision:   48.08%; recall:   29.76%; F1:   36.76; predicted:    52\n",
      "\n",
      "\t    facility: precision:   37.50%; recall:   31.91%; F1:   34.48; predicted:    40\n",
      "\n",
      "\t     geo-loc: precision:   51.09%; recall:   56.97%; F1:   53.87; predicted:   184\n",
      "\n",
      "\t       movie: precision:    0.00%; recall:    0.00%; F1:    0.00; predicted:     0\n",
      "\n",
      "\t musicartist: precision:    0.00%; recall:    0.00%; F1:    0.00; predicted:     0\n",
      "\n",
      "\t       other: precision:   28.79%; recall:   18.45%; F1:   22.49; predicted:    66\n",
      "\n",
      "\t      person: precision:   31.25%; recall:   28.85%; F1:   30.00; predicted:    96\n",
      "\n",
      "\t     product: precision:    0.00%; recall:    0.00%; F1:    0.00; predicted:     2\n",
      "\n",
      "\t  sportsteam: precision:    0.00%; recall:    0.00%; F1:    0.00; predicted:     0\n",
      "\n",
      "\t      tvshow: precision:    0.00%; recall:    0.00%; F1:    0.00; predicted:     0\n",
      "\n",
      "Training accuracy: 0.985133707523346 Training loss:  0.05006187781691551\n",
      "\n",
      "Validation accuracy: 0.9741367697715759 Validation loss: 0.1258906126022339\n",
      "\n",
      "Testing accuracy: 0.9827648997306824 Testing loss: 0.05006187781691551\n"
     ]
    }
   ],
   "source": [
    "#train  and evalute model1\n",
    "# early_stopping  = EarlyStopping(monitor='val_accuracy', patience=6, mode='max',restore_best_weights=True)\n",
    "# callbacks=[early_stopping, PlotLossesKeras()]\n",
    "history = model1.fit(\n",
    "    X_train, y_train,\n",
    "    validation_data=(X_validation,y_validation),\n",
    "    batch_size=25,\n",
    "    epochs=3,\n",
    ")\n",
    "evaluate(model1)\n"
   ]
  },
  {
   "cell_type": "code",
   "execution_count": 35,
   "metadata": {
    "colab": {
     "base_uri": "https://localhost:8080/",
     "height": 1000
    },
    "colab_type": "code",
    "id": "pY9bFSAxvuFx",
    "outputId": "be8aa8a6-dbb5-404b-c4a2-8943773b5beb"
   },
   "outputs": [
    {
     "name": "stdout",
     "output_type": "stream",
     "text": [
      "--------------------------------------------------------------------------------sgd--------------------------------------------------------------------------------\n",
      "Epoch 1/30\n",
      "49/49 [==============================] - 31s 624ms/step - loss: 0.3570 - accuracy: 0.9671 - val_loss: 0.2685 - val_accuracy: 0.9692\n",
      "Epoch 2/30\n",
      "49/49 [==============================] - 31s 623ms/step - loss: 0.2688 - accuracy: 0.9671 - val_loss: 0.2454 - val_accuracy: 0.9692\n",
      "Epoch 3/30\n",
      "49/49 [==============================] - 31s 626ms/step - loss: 0.2573 - accuracy: 0.9671 - val_loss: 0.2393 - val_accuracy: 0.9692\n",
      "Epoch 4/30\n",
      "49/49 [==============================] - 31s 623ms/step - loss: 0.2538 - accuracy: 0.9671 - val_loss: 0.2368 - val_accuracy: 0.9692\n",
      "Epoch 5/30\n",
      "49/49 [==============================] - 31s 624ms/step - loss: 0.2522 - accuracy: 0.9671 - val_loss: 0.2353 - val_accuracy: 0.9692\n",
      "processed 12534 tokens with 604 phrases; found: 0 phrases; correct: 0.\n",
      "\n",
      "precision:  0.00%; recall:  0.00%; F1:  0.00\n",
      "\n",
      "\t     company: precision:    0.00%; recall:    0.00%; F1:    0.00; predicted:     0\n",
      "\n",
      "\t    facility: precision:    0.00%; recall:    0.00%; F1:    0.00; predicted:     0\n",
      "\n",
      "\t     geo-loc: precision:    0.00%; recall:    0.00%; F1:    0.00; predicted:     0\n",
      "\n",
      "\t       movie: precision:    0.00%; recall:    0.00%; F1:    0.00; predicted:     0\n",
      "\n",
      "\t musicartist: precision:    0.00%; recall:    0.00%; F1:    0.00; predicted:     0\n",
      "\n",
      "\t       other: precision:    0.00%; recall:    0.00%; F1:    0.00; predicted:     0\n",
      "\n",
      "\t      person: precision:    0.00%; recall:    0.00%; F1:    0.00; predicted:     0\n",
      "\n",
      "\t     product: precision:    0.00%; recall:    0.00%; F1:    0.00; predicted:     0\n",
      "\n",
      "\t  sportsteam: precision:    0.00%; recall:    0.00%; F1:    0.00; predicted:     0\n",
      "\n",
      "\t      tvshow: precision:    0.00%; recall:    0.00%; F1:    0.00; predicted:     0\n",
      "\n",
      "Training accuracy: 0.967100977897644 Training loss:  0.28216445446014404\n",
      "\n",
      "Validation accuracy: 0.9691988825798035 Validation loss: 0.2684939503669739\n",
      "\n",
      "Testing accuracy: 0.9755866527557373 Testing loss: 0.28216445446014404\n",
      "--------------------------------------------------------------------------------------------------------------------------------------------------------------------------------------------------------------------------------------------------------------------------------------------------------------------------------------------------------------\n",
      "--------------------------------------------------------------------------------rmsprop--------------------------------------------------------------------------------\n",
      "Epoch 1/30\n",
      "49/49 [==============================] - 31s 628ms/step - loss: 0.1986 - accuracy: 0.9669 - val_loss: 0.1782 - val_accuracy: 0.9692\n",
      "Epoch 2/30\n",
      "49/49 [==============================] - 31s 633ms/step - loss: 0.1773 - accuracy: 0.9671 - val_loss: 0.1670 - val_accuracy: 0.9692\n",
      "Epoch 3/30\n",
      "49/49 [==============================] - 31s 630ms/step - loss: 0.1544 - accuracy: 0.9672 - val_loss: 0.1515 - val_accuracy: 0.9692\n",
      "Epoch 4/30\n",
      "49/49 [==============================] - 32s 653ms/step - loss: 0.1279 - accuracy: 0.9682 - val_loss: 0.1472 - val_accuracy: 0.9695\n",
      "Epoch 5/30\n",
      "49/49 [==============================] - 31s 633ms/step - loss: 0.1082 - accuracy: 0.9706 - val_loss: 0.1481 - val_accuracy: 0.9700\n",
      "Epoch 6/30\n",
      "49/49 [==============================] - 31s 633ms/step - loss: 0.0953 - accuracy: 0.9731 - val_loss: 0.1390 - val_accuracy: 0.9701\n",
      "Epoch 7/30\n",
      "49/49 [==============================] - 31s 634ms/step - loss: 0.0870 - accuracy: 0.9749 - val_loss: 0.1405 - val_accuracy: 0.9695\n",
      "Epoch 8/30\n",
      "49/49 [==============================] - 31s 635ms/step - loss: 0.0773 - accuracy: 0.9776 - val_loss: 0.1531 - val_accuracy: 0.9704\n",
      "Epoch 9/30\n",
      "49/49 [==============================] - 31s 634ms/step - loss: 0.0691 - accuracy: 0.9800 - val_loss: 0.1599 - val_accuracy: 0.9645\n",
      "Epoch 10/30\n",
      "49/49 [==============================] - 31s 630ms/step - loss: 0.0608 - accuracy: 0.9824 - val_loss: 0.1688 - val_accuracy: 0.9675\n",
      "Epoch 11/30\n",
      "49/49 [==============================] - 31s 631ms/step - loss: 0.0538 - accuracy: 0.9844 - val_loss: 0.1701 - val_accuracy: 0.9672\n",
      "Epoch 12/30\n",
      "49/49 [==============================] - 31s 634ms/step - loss: 0.0459 - accuracy: 0.9867 - val_loss: 0.1799 - val_accuracy: 0.9628\n",
      "processed 12534 tokens with 604 phrases; found: 349 phrases; correct: 97.\n",
      "\n",
      "precision:  27.79%; recall:  16.06%; F1:  20.36\n",
      "\n",
      "\t     company: precision:   24.32%; recall:   10.71%; F1:   14.88; predicted:    37\n",
      "\n",
      "\t    facility: precision:   24.00%; recall:   25.53%; F1:   24.74; predicted:    50\n",
      "\n",
      "\t     geo-loc: precision:   42.00%; recall:   38.18%; F1:   40.00; predicted:   150\n",
      "\n",
      "\t       movie: precision:    0.00%; recall:    0.00%; F1:    0.00; predicted:     0\n",
      "\n",
      "\t musicartist: precision:    0.00%; recall:    0.00%; F1:    0.00; predicted:     0\n",
      "\n",
      "\t       other: precision:    5.56%; recall:    3.88%; F1:    4.57; predicted:    72\n",
      "\n",
      "\t      person: precision:   28.57%; recall:    7.69%; F1:   12.12; predicted:    28\n",
      "\n",
      "\t     product: precision:    8.33%; recall:    3.57%; F1:    5.00; predicted:    12\n",
      "\n",
      "\t  sportsteam: precision:    0.00%; recall:    0.00%; F1:    0.00; predicted:     0\n",
      "\n",
      "\t      tvshow: precision:    0.00%; recall:    0.00%; F1:    0.00; predicted:     0\n",
      "\n",
      "Training accuracy: 0.9801035523414612 Training loss:  0.06710794568061829\n",
      "\n",
      "Validation accuracy: 0.9703729152679443 Validation loss: 0.15305808186531067\n",
      "\n",
      "Testing accuracy: 0.9798862934112549 Testing loss: 0.06710794568061829\n",
      "--------------------------------------------------------------------------------------------------------------------------------------------------------------------------------------------------------------------------------------------------------------------------------------------------------------------------------------------------------------\n",
      "--------------------------------------------------------------------------------nadam--------------------------------------------------------------------------------\n",
      "Epoch 1/30\n",
      "49/49 [==============================] - 39s 800ms/step - loss: 0.4623 - accuracy: 0.9511 - val_loss: 0.1962 - val_accuracy: 0.9692\n",
      "Epoch 2/30\n",
      "49/49 [==============================] - 31s 636ms/step - loss: 0.2041 - accuracy: 0.9671 - val_loss: 0.2052 - val_accuracy: 0.9692\n",
      "Epoch 3/30\n",
      "49/49 [==============================] - 31s 636ms/step - loss: 0.1917 - accuracy: 0.9671 - val_loss: 0.1907 - val_accuracy: 0.9692\n",
      "Epoch 4/30\n",
      "49/49 [==============================] - 31s 638ms/step - loss: 0.1772 - accuracy: 0.9671 - val_loss: 0.1750 - val_accuracy: 0.9692\n",
      "Epoch 5/30\n",
      "49/49 [==============================] - 31s 638ms/step - loss: 0.1632 - accuracy: 0.9671 - val_loss: 0.1716 - val_accuracy: 0.9692\n",
      "processed 12534 tokens with 604 phrases; found: 0 phrases; correct: 0.\n",
      "\n",
      "precision:  0.00%; recall:  0.00%; F1:  0.00\n",
      "\n",
      "\t     company: precision:    0.00%; recall:    0.00%; F1:    0.00; predicted:     0\n",
      "\n",
      "\t    facility: precision:    0.00%; recall:    0.00%; F1:    0.00; predicted:     0\n",
      "\n",
      "\t     geo-loc: precision:    0.00%; recall:    0.00%; F1:    0.00; predicted:     0\n",
      "\n",
      "\t       movie: precision:    0.00%; recall:    0.00%; F1:    0.00; predicted:     0\n",
      "\n",
      "\t musicartist: precision:    0.00%; recall:    0.00%; F1:    0.00; predicted:     0\n",
      "\n",
      "\t       other: precision:    0.00%; recall:    0.00%; F1:    0.00; predicted:     0\n",
      "\n",
      "\t      person: precision:    0.00%; recall:    0.00%; F1:    0.00; predicted:     0\n",
      "\n",
      "\t     product: precision:    0.00%; recall:    0.00%; F1:    0.00; predicted:     0\n",
      "\n",
      "\t  sportsteam: precision:    0.00%; recall:    0.00%; F1:    0.00; predicted:     0\n",
      "\n",
      "\t      tvshow: precision:    0.00%; recall:    0.00%; F1:    0.00; predicted:     0\n",
      "\n",
      "Training accuracy: 0.967100977897644 Training loss:  0.20612230896949768\n",
      "\n",
      "Validation accuracy: 0.9691988825798035 Validation loss: 0.19624488055706024\n",
      "\n",
      "Testing accuracy: 0.9755866527557373 Testing loss: 0.20612230896949768\n",
      "--------------------------------------------------------------------------------------------------------------------------------------------------------------------------------------------------------------------------------------------------------------------------------------------------------------------------------------------------------------\n",
      "--------------------------------------------------------------------------------adadelta--------------------------------------------------------------------------------\n",
      "Epoch 1/30\n",
      "49/49 [==============================] - 37s 752ms/step - loss: 3.0426 - accuracy: 0.0674 - val_loss: 3.0407 - val_accuracy: 0.1368\n",
      "Epoch 2/30\n",
      "49/49 [==============================] - 31s 626ms/step - loss: 3.0389 - accuracy: 0.2231 - val_loss: 3.0368 - val_accuracy: 0.3030\n",
      "Epoch 3/30\n",
      "49/49 [==============================] - 31s 629ms/step - loss: 3.0349 - accuracy: 0.3825 - val_loss: 3.0327 - val_accuracy: 0.4555\n",
      "Epoch 4/30\n",
      "49/49 [==============================] - 31s 630ms/step - loss: 3.0307 - accuracy: 0.5633 - val_loss: 3.0284 - val_accuracy: 0.6647\n",
      "Epoch 5/30\n",
      "49/49 [==============================] - 31s 630ms/step - loss: 3.0264 - accuracy: 0.7200 - val_loss: 3.0239 - val_accuracy: 0.7683\n",
      "Epoch 6/30\n",
      "49/49 [==============================] - 31s 627ms/step - loss: 3.0218 - accuracy: 0.8056 - val_loss: 3.0191 - val_accuracy: 0.8425\n",
      "Epoch 7/30\n",
      "49/49 [==============================] - 31s 630ms/step - loss: 3.0170 - accuracy: 0.8674 - val_loss: 3.0141 - val_accuracy: 0.8953\n",
      "Epoch 8/30\n",
      "49/49 [==============================] - 32s 645ms/step - loss: 3.0119 - accuracy: 0.9129 - val_loss: 3.0088 - val_accuracy: 0.9286\n",
      "Epoch 9/30\n",
      "49/49 [==============================] - 31s 636ms/step - loss: 3.0065 - accuracy: 0.9433 - val_loss: 3.0032 - val_accuracy: 0.9583\n",
      "Epoch 10/30\n",
      "49/49 [==============================] - 31s 633ms/step - loss: 3.0007 - accuracy: 0.9663 - val_loss: 2.9972 - val_accuracy: 0.9692\n",
      "Epoch 11/30\n",
      "49/49 [==============================] - 31s 633ms/step - loss: 2.9946 - accuracy: 0.9671 - val_loss: 2.9907 - val_accuracy: 0.9692\n",
      "Epoch 12/30\n",
      "49/49 [==============================] - 31s 630ms/step - loss: 2.9879 - accuracy: 0.9671 - val_loss: 2.9837 - val_accuracy: 0.9692\n",
      "Epoch 13/30\n",
      "49/49 [==============================] - 31s 629ms/step - loss: 2.9807 - accuracy: 0.9671 - val_loss: 2.9761 - val_accuracy: 0.9692\n",
      "Epoch 14/30\n",
      "49/49 [==============================] - 31s 634ms/step - loss: 2.9729 - accuracy: 0.9671 - val_loss: 2.9678 - val_accuracy: 0.9692\n",
      "processed 12534 tokens with 604 phrases; found: 0 phrases; correct: 0.\n",
      "\n",
      "precision:  0.00%; recall:  0.00%; F1:  0.00\n",
      "\n",
      "\t     company: precision:    0.00%; recall:    0.00%; F1:    0.00; predicted:     0\n",
      "\n",
      "\t    facility: precision:    0.00%; recall:    0.00%; F1:    0.00; predicted:     0\n",
      "\n",
      "\t     geo-loc: precision:    0.00%; recall:    0.00%; F1:    0.00; predicted:     0\n",
      "\n",
      "\t       movie: precision:    0.00%; recall:    0.00%; F1:    0.00; predicted:     0\n",
      "\n",
      "\t musicartist: precision:    0.00%; recall:    0.00%; F1:    0.00; predicted:     0\n",
      "\n",
      "\t       other: precision:    0.00%; recall:    0.00%; F1:    0.00; predicted:     0\n",
      "\n",
      "\t      person: precision:    0.00%; recall:    0.00%; F1:    0.00; predicted:     0\n",
      "\n",
      "\t     product: precision:    0.00%; recall:    0.00%; F1:    0.00; predicted:     0\n",
      "\n",
      "\t  sportsteam: precision:    0.00%; recall:    0.00%; F1:    0.00; predicted:     0\n",
      "\n",
      "\t      tvshow: precision:    0.00%; recall:    0.00%; F1:    0.00; predicted:     0\n",
      "\n",
      "Training accuracy: 0.967100977897644 Training loss:  2.9976234436035156\n",
      "\n",
      "Validation accuracy: 0.9691988825798035 Validation loss: 2.997156858444214\n",
      "\n",
      "Testing accuracy: 0.9755866527557373 Testing loss: 2.9976234436035156\n",
      "--------------------------------------------------------------------------------------------------------------------------------------------------------------------------------------------------------------------------------------------------------------------------------------------------------------------------------------------------------------\n",
      "--------------------------------------------------------------------------------adagrad--------------------------------------------------------------------------------\n",
      "Epoch 1/30\n",
      "49/49 [==============================] - 37s 751ms/step - loss: 2.8678 - accuracy: 0.9171 - val_loss: 2.7044 - val_accuracy: 0.9692\n",
      "Epoch 2/30\n",
      "49/49 [==============================] - 31s 626ms/step - loss: 2.5395 - accuracy: 0.9671 - val_loss: 2.3291 - val_accuracy: 0.9692\n",
      "Epoch 3/30\n",
      "49/49 [==============================] - 31s 633ms/step - loss: 2.0505 - accuracy: 0.9671 - val_loss: 1.6773 - val_accuracy: 0.9692\n",
      "Epoch 4/30\n",
      "49/49 [==============================] - 31s 638ms/step - loss: 1.2773 - accuracy: 0.9671 - val_loss: 0.8753 - val_accuracy: 0.9692\n",
      "Epoch 5/30\n",
      "49/49 [==============================] - 31s 642ms/step - loss: 0.6732 - accuracy: 0.9671 - val_loss: 0.5064 - val_accuracy: 0.9692\n",
      "processed 12534 tokens with 604 phrases; found: 0 phrases; correct: 0.\n",
      "\n",
      "precision:  0.00%; recall:  0.00%; F1:  0.00\n",
      "\n",
      "\t     company: precision:    0.00%; recall:    0.00%; F1:    0.00; predicted:     0\n",
      "\n",
      "\t    facility: precision:    0.00%; recall:    0.00%; F1:    0.00; predicted:     0\n",
      "\n",
      "\t     geo-loc: precision:    0.00%; recall:    0.00%; F1:    0.00; predicted:     0\n",
      "\n",
      "\t       movie: precision:    0.00%; recall:    0.00%; F1:    0.00; predicted:     0\n",
      "\n",
      "\t musicartist: precision:    0.00%; recall:    0.00%; F1:    0.00; predicted:     0\n",
      "\n",
      "\t       other: precision:    0.00%; recall:    0.00%; F1:    0.00; predicted:     0\n",
      "\n",
      "\t      person: precision:    0.00%; recall:    0.00%; F1:    0.00; predicted:     0\n",
      "\n",
      "\t     product: precision:    0.00%; recall:    0.00%; F1:    0.00; predicted:     0\n",
      "\n",
      "\t  sportsteam: precision:    0.00%; recall:    0.00%; F1:    0.00; predicted:     0\n",
      "\n",
      "\t      tvshow: precision:    0.00%; recall:    0.00%; F1:    0.00; predicted:     0\n",
      "\n",
      "Training accuracy: 0.967100977897644 Training loss:  2.7058043479919434\n",
      "\n",
      "Validation accuracy: 0.9691988825798035 Validation loss: 2.7043628692626953\n",
      "\n",
      "Testing accuracy: 0.9755866527557373 Testing loss: 2.7058043479919434\n",
      "--------------------------------------------------------------------------------------------------------------------------------------------------------------------------------------------------------------------------------------------------------------------------------------------------------------------------------------------------------------\n",
      "--------------------------------------------------------------------------------adamax--------------------------------------------------------------------------------\n",
      "Epoch 1/30\n",
      "49/49 [==============================] - 40s 815ms/step - loss: 0.6906 - accuracy: 0.9473 - val_loss: 0.2202 - val_accuracy: 0.9692\n",
      "Epoch 2/30\n",
      "49/49 [==============================] - 31s 630ms/step - loss: 0.2222 - accuracy: 0.9671 - val_loss: 0.2008 - val_accuracy: 0.9692\n",
      "Epoch 3/30\n",
      "49/49 [==============================] - 31s 631ms/step - loss: 0.2091 - accuracy: 0.9671 - val_loss: 0.1959 - val_accuracy: 0.9692\n",
      "Epoch 4/30\n",
      "49/49 [==============================] - 31s 632ms/step - loss: 0.2052 - accuracy: 0.9671 - val_loss: 0.1933 - val_accuracy: 0.9692\n",
      "Epoch 5/30\n",
      "49/49 [==============================] - 31s 631ms/step - loss: 0.2034 - accuracy: 0.9671 - val_loss: 0.1921 - val_accuracy: 0.9692\n",
      "processed 12534 tokens with 604 phrases; found: 0 phrases; correct: 0.\n",
      "\n",
      "precision:  0.00%; recall:  0.00%; F1:  0.00\n",
      "\n",
      "\t     company: precision:    0.00%; recall:    0.00%; F1:    0.00; predicted:     0\n",
      "\n",
      "\t    facility: precision:    0.00%; recall:    0.00%; F1:    0.00; predicted:     0\n",
      "\n",
      "\t     geo-loc: precision:    0.00%; recall:    0.00%; F1:    0.00; predicted:     0\n",
      "\n",
      "\t       movie: precision:    0.00%; recall:    0.00%; F1:    0.00; predicted:     0\n",
      "\n",
      "\t musicartist: precision:    0.00%; recall:    0.00%; F1:    0.00; predicted:     0\n",
      "\n",
      "\t       other: precision:    0.00%; recall:    0.00%; F1:    0.00; predicted:     0\n",
      "\n",
      "\t      person: precision:    0.00%; recall:    0.00%; F1:    0.00; predicted:     0\n",
      "\n",
      "\t     product: precision:    0.00%; recall:    0.00%; F1:    0.00; predicted:     0\n",
      "\n",
      "\t  sportsteam: precision:    0.00%; recall:    0.00%; F1:    0.00; predicted:     0\n",
      "\n",
      "\t      tvshow: precision:    0.00%; recall:    0.00%; F1:    0.00; predicted:     0\n",
      "\n",
      "Training accuracy: 0.967100977897644 Training loss:  0.23468726873397827\n",
      "\n",
      "Validation accuracy: 0.9691988825798035 Validation loss: 0.22020414471626282\n",
      "\n",
      "Testing accuracy: 0.9755866527557373 Testing loss: 0.23468726873397827\n",
      "--------------------------------------------------------------------------------------------------------------------------------------------------------------------------------------------------------------------------------------------------------------------------------------------------------------------------------------------------------------\n",
      "--------------------------------------------------------------------------------ftrl--------------------------------------------------------------------------------\n",
      "Epoch 1/30\n",
      "49/49 [==============================] - 37s 762ms/step - loss: 3.0348 - accuracy: 0.9471 - val_loss: 3.0276 - val_accuracy: 0.9692\n",
      "Epoch 2/30\n",
      "49/49 [==============================] - 31s 640ms/step - loss: 3.0229 - accuracy: 0.9671 - val_loss: 3.0182 - val_accuracy: 0.9692\n",
      "Epoch 3/30\n",
      "49/49 [==============================] - 32s 646ms/step - loss: 3.0145 - accuracy: 0.9671 - val_loss: 3.0107 - val_accuracy: 0.9692\n",
      "Epoch 4/30\n",
      "49/49 [==============================] - 32s 646ms/step - loss: 3.0076 - accuracy: 0.9671 - val_loss: 3.0042 - val_accuracy: 0.9692\n",
      "Epoch 5/30\n",
      "49/49 [==============================] - 32s 645ms/step - loss: 3.0015 - accuracy: 0.9671 - val_loss: 2.9984 - val_accuracy: 0.9692\n",
      "processed 12534 tokens with 604 phrases; found: 0 phrases; correct: 0.\n",
      "\n",
      "precision:  0.00%; recall:  0.00%; F1:  0.00\n",
      "\n",
      "\t     company: precision:    0.00%; recall:    0.00%; F1:    0.00; predicted:     0\n",
      "\n",
      "\t    facility: precision:    0.00%; recall:    0.00%; F1:    0.00; predicted:     0\n",
      "\n",
      "\t     geo-loc: precision:    0.00%; recall:    0.00%; F1:    0.00; predicted:     0\n",
      "\n",
      "\t       movie: precision:    0.00%; recall:    0.00%; F1:    0.00; predicted:     0\n",
      "\n",
      "\t musicartist: precision:    0.00%; recall:    0.00%; F1:    0.00; predicted:     0\n",
      "\n",
      "\t       other: precision:    0.00%; recall:    0.00%; F1:    0.00; predicted:     0\n",
      "\n",
      "\t      person: precision:    0.00%; recall:    0.00%; F1:    0.00; predicted:     0\n",
      "\n",
      "\t     product: precision:    0.00%; recall:    0.00%; F1:    0.00; predicted:     0\n",
      "\n",
      "\t  sportsteam: precision:    0.00%; recall:    0.00%; F1:    0.00; predicted:     0\n",
      "\n",
      "\t      tvshow: precision:    0.00%; recall:    0.00%; F1:    0.00; predicted:     0\n",
      "\n",
      "Training accuracy: 0.967100977897644 Training loss:  3.0276834964752197\n",
      "\n",
      "Validation accuracy: 0.9691988825798035 Validation loss: 3.027644634246826\n",
      "\n",
      "Testing accuracy: 0.9755866527557373 Testing loss: 3.0276834964752197\n",
      "--------------------------------------------------------------------------------------------------------------------------------------------------------------------------------------------------------------------------------------------------------------------------------------------------------------------------------------------------------------\n"
     ]
    }
   ],
   "source": [
    "# train and evaluate others models\n",
    "for k,v in models.items():\n",
    "    print(\"----\"*20+k+\"----\"*20)\n",
    "    m_temp = v\n",
    "    history = m_temp.fit(\n",
    "        X_train, y_train,\n",
    "        validation_data=(X_validation, y_validation),\n",
    "        batch_size=120,\n",
    "        epochs=30,\n",
    "        callbacks=[early_stopping])\n",
    "    evaluate(m_temp)\n",
    "    models[k] = m_temp\n",
    "    print(\"-------\"*50)\n"
   ]
  },
  {
   "cell_type": "code",
   "execution_count": 27,
   "metadata": {
    "colab": {
     "base_uri": "https://localhost:8080/",
     "height": 660
    },
    "colab_type": "code",
    "id": "hmD87OTNO24v",
    "outputId": "86a7b76d-157c-4758-b860-0d0422c3e3ec"
   },
   "outputs": [
    {
     "name": "stdout",
     "output_type": "stream",
     "text": [
      "Epoch 1/3\n",
      "232/232 [==============================] - 51s 218ms/step - loss: 0.0576 - accuracy: 0.9831 - val_loss: 0.1254 - val_accuracy: 0.9736\n",
      "Epoch 2/3\n",
      "232/232 [==============================] - 50s 217ms/step - loss: 0.0438 - accuracy: 0.9867 - val_loss: 0.1285 - val_accuracy: 0.9730\n",
      "Epoch 3/3\n",
      "232/232 [==============================] - 50s 217ms/step - loss: 0.0320 - accuracy: 0.9906 - val_loss: 0.1441 - val_accuracy: 0.9741\n",
      "processed 12534 tokens with 604 phrases; found: 404 phrases; correct: 200.\n",
      "\n",
      "precision:  49.50%; recall:  33.11%; F1:  39.68\n",
      "\n",
      "\t     company: precision:   61.02%; recall:   42.86%; F1:   50.35; predicted:    59\n",
      "\n",
      "\t    facility: precision:   35.56%; recall:   34.04%; F1:   34.78; predicted:    45\n",
      "\n",
      "\t     geo-loc: precision:   71.05%; recall:   49.09%; F1:   58.06; predicted:   114\n",
      "\n",
      "\t       movie: precision:    0.00%; recall:    0.00%; F1:    0.00; predicted:    10\n",
      "\n",
      "\t musicartist: precision:   33.33%; recall:    7.41%; F1:   12.12; predicted:     6\n",
      "\n",
      "\t       other: precision:   34.48%; recall:   29.13%; F1:   31.58; predicted:    87\n",
      "\n",
      "\t      person: precision:   58.00%; recall:   27.88%; F1:   37.66; predicted:    50\n",
      "\n",
      "\t     product: precision:   10.00%; recall:    3.57%; F1:    5.26; predicted:    10\n",
      "\n",
      "\t  sportsteam: precision:   23.81%; recall:   16.13%; F1:   19.23; predicted:    21\n",
      "\n",
      "\t      tvshow: precision:    0.00%; recall:    0.00%; F1:    0.00; predicted:     2\n",
      "\n",
      "Training accuracy: 0.9934167265892029 Training loss:  0.022654756903648376\n",
      "\n",
      "Validation accuracy: 0.9741021990776062 Validation loss: 0.1440679430961609\n",
      "\n",
      "Testing accuracy: 0.9847689867019653 Testing loss: 0.022654756903648376\n"
     ]
    }
   ],
   "source": [
    "#further train with best model1\n",
    "history = model1.fit(\n",
    "X_train, y_train,\n",
    "validation_data=(X_validation,y_validation),\n",
    "batch_size=25,\n",
    "epochs=3\n",
    ")\n",
    "evaluate(model1)\n"
   ]
  },
  {
   "cell_type": "markdown",
   "metadata": {
    "colab_type": "text",
    "id": "wJeMBxfb5uO6"
   },
   "source": [
    "## Evalutation"
   ]
  },
  {
   "cell_type": "code",
   "execution_count": 28,
   "metadata": {
    "colab": {
     "base_uri": "https://localhost:8080/",
     "height": 1000
    },
    "colab_type": "code",
    "id": "marYr7J4KYOM",
    "outputId": "da2ba39b-0549-4148-8e5b-3d2ae4c9cd78"
   },
   "outputs": [
    {
     "name": "stdout",
     "output_type": "stream",
     "text": [
      "--------------------Evaluation in training set--------------------\n",
      "processed 99983 tokens with 4489 phrases; found: 4617 phrases; correct: 3492.\n",
      "\n",
      "precision:  75.63%; recall:  77.79%; F1:  76.70\n",
      "\n",
      "\t     company: precision:   84.25%; recall:   85.69%; F1:   84.97; predicted:   654\n",
      "\n",
      "\t    facility: precision:   71.36%; recall:   88.85%; F1:   79.15; predicted:   391\n",
      "\n",
      "\t     geo-loc: precision:   89.61%; recall:   90.96%; F1:   90.28; predicted:  1011\n",
      "\n",
      "\t       movie: precision:   18.03%; recall:   32.35%; F1:   23.16; predicted:   122\n",
      "\n",
      "\t musicartist: precision:   33.88%; recall:   17.67%; F1:   23.23; predicted:   121\n",
      "\n",
      "\t       other: precision:   75.56%; recall:   75.96%; F1:   75.76; predicted:   761\n",
      "\n",
      "\t      person: precision:   83.26%; recall:   87.58%; F1:   85.37; predicted:   932\n",
      "\n",
      "\t     product: precision:   52.68%; recall:   58.81%; F1:   55.57; predicted:   355\n",
      "\n",
      "\t  sportsteam: precision:   61.25%; recall:   67.74%; F1:   64.33; predicted:   240\n",
      "\n",
      "\t      tvshow: precision:   26.67%; recall:   13.79%; F1:   18.18; predicted:    30\n",
      "\n",
      "--------------------Evaluation in validation set--------------------\n",
      "processed 12112 tokens with 537 phrases; found: 448 phrases; correct: 184.\n",
      "\n",
      "precision:  41.07%; recall:  34.26%; F1:  37.36\n",
      "\n",
      "\t     company: precision:   55.32%; recall:   50.00%; F1:   52.53; predicted:    94\n",
      "\n",
      "\t    facility: precision:   32.08%; recall:   50.00%; F1:   39.08; predicted:    53\n",
      "\n",
      "\t     geo-loc: precision:   68.00%; recall:   45.13%; F1:   54.26; predicted:    75\n",
      "\n",
      "\t       movie: precision:    0.00%; recall:    0.00%; F1:    0.00; predicted:    18\n",
      "\n",
      "\t musicartist: precision:   14.29%; recall:   10.71%; F1:   12.24; predicted:    21\n",
      "\n",
      "\t       other: precision:   36.62%; recall:   32.10%; F1:   34.21; predicted:    71\n",
      "\n",
      "\t      person: precision:   53.57%; recall:   26.79%; F1:   35.71; predicted:    56\n",
      "\n",
      "\t     product: precision:    2.86%; recall:    2.94%; F1:    2.90; predicted:    35\n",
      "\n",
      "\t  sportsteam: precision:   18.18%; recall:   20.00%; F1:   19.05; predicted:    22\n",
      "\n",
      "\t      tvshow: precision:    0.00%; recall:    0.00%; F1:    0.00; predicted:     3\n",
      "\n",
      "--------------------Evaluation in testing set--------------------\n",
      "processed 12534 tokens with 604 phrases; found: 404 phrases; correct: 200.\n",
      "\n",
      "precision:  49.50%; recall:  33.11%; F1:  39.68\n",
      "\n",
      "\t     company: precision:   61.02%; recall:   42.86%; F1:   50.35; predicted:    59\n",
      "\n",
      "\t    facility: precision:   35.56%; recall:   34.04%; F1:   34.78; predicted:    45\n",
      "\n",
      "\t     geo-loc: precision:   71.05%; recall:   49.09%; F1:   58.06; predicted:   114\n",
      "\n",
      "\t       movie: precision:    0.00%; recall:    0.00%; F1:    0.00; predicted:    10\n",
      "\n",
      "\t musicartist: precision:   33.33%; recall:    7.41%; F1:   12.12; predicted:     6\n",
      "\n",
      "\t       other: precision:   34.48%; recall:   29.13%; F1:   31.58; predicted:    87\n",
      "\n",
      "\t      person: precision:   58.00%; recall:   27.88%; F1:   37.66; predicted:    50\n",
      "\n",
      "\t     product: precision:   10.00%; recall:    3.57%; F1:    5.26; predicted:    10\n",
      "\n",
      "\t  sportsteam: precision:   23.81%; recall:   16.13%; F1:   19.23; predicted:    21\n",
      "\n",
      "\t      tvshow: precision:    0.00%; recall:    0.00%; F1:    0.00; predicted:     2\n",
      "\n"
     ]
    }
   ],
   "source": [
    "print('-'*20+ 'Evaluation in training set' + '-'*20)\n",
    "train_results = predict(model1, train_tokens, train_tags)\n",
    "print('-'*20+ 'Evaluation in validation set' + '-'*20)\n",
    "validation_results = predict(model1, validation_tokens, validation_tags)\n",
    "print('-'*20+ 'Evaluation in testing set' + '-'*20)\n",
    "test_results = predict(model1, test_tokens, test_tags)"
   ]
  },
  {
   "cell_type": "code",
   "execution_count": 34,
   "metadata": {
    "colab": {
     "base_uri": "https://localhost:8080/",
     "height": 35
    },
    "colab_type": "code",
    "id": "gWYvFchuJsrC",
    "outputId": "b3da3564-e1bc-446c-fd79-63743f00d93c"
   },
   "outputs": [
    {
     "name": "stdout",
     "output_type": "stream",
     "text": [
      "INFO:tensorflow:Assets written to: /content/model1_39/assets\n"
     ]
    }
   ],
   "source": [
    "#saving model\n",
    "from tensorflow.keras.models import save_model, load_model\n",
    "\n",
    "save_model(model1, '/content/model1_39')\n",
    "#best model is located at "
   ]
  },
  {
   "cell_type": "code",
   "execution_count": 36,
   "metadata": {
    "colab": {
     "base_uri": "https://localhost:8080/",
     "height": 127
    },
    "colab_type": "code",
    "id": "fvSkeTH0Mr_R",
    "outputId": "cb9c920e-5474-42c0-c802-7c8567bffb3e"
   },
   "outputs": [
    {
     "name": "stdout",
     "output_type": "stream",
     "text": [
      "  adding: model1_39/ (stored 0%)\n",
      "  adding: model1_39/saved_model.pb (deflated 90%)\n",
      "  adding: model1_39/variables/ (stored 0%)\n",
      "  adding: model1_39/variables/variables.data-00000-of-00001 (deflated 8%)\n",
      "  adding: model1_39/variables/variables.index (deflated 71%)\n",
      "  adding: model1_39/assets/ (stored 0%)\n"
     ]
    }
   ],
   "source": [
    "!zip -r model1_39.zip model1_39"
   ]
  }
 ],
 "metadata": {
  "accelerator": "TPU",
  "colab": {
   "collapsed_sections": [
    "6powzdbu6OeI"
   ],
   "name": "week2-NER.ipynb",
   "provenance": [],
   "toc_visible": true
  },
  "kernelspec": {
   "display_name": "Python 3",
   "language": "python",
   "name": "python3"
  },
  "language_info": {
   "codemirror_mode": {
    "name": "ipython",
    "version": 3
   },
   "file_extension": ".py",
   "mimetype": "text/x-python",
   "name": "python",
   "nbconvert_exporter": "python",
   "pygments_lexer": "ipython3",
   "version": "3.8.3"
  }
 },
 "nbformat": 4,
 "nbformat_minor": 1
}
