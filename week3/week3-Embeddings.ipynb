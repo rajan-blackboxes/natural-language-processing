{
  "nbformat": 4,
  "nbformat_minor": 0,
  "metadata": {
    "kernelspec": {
      "display_name": "Python 3",
      "language": "python",
      "name": "python3"
    },
    "language_info": {
      "codemirror_mode": {
        "name": "ipython",
        "version": 3
      },
      "file_extension": ".py",
      "mimetype": "text/x-python",
      "name": "python",
      "nbconvert_exporter": "python",
      "pygments_lexer": "ipython3",
      "version": "3.4.3"
    },
    "colab": {
      "name": "Copy of week3-Embeddings.ipynb",
      "provenance": [],
      "collapsed_sections": [],
      "toc_visible": true,
      "include_colab_link": true
    },
    "widgets": {
      "application/vnd.jupyter.widget-state+json": {
        "f993ee6c5cf54088984ad79dfeea65e2": {
          "model_module": "@jupyter-widgets/controls",
          "model_name": "HBoxModel",
          "state": {
            "_view_name": "HBoxView",
            "_dom_classes": [],
            "_model_name": "HBoxModel",
            "_view_module": "@jupyter-widgets/controls",
            "_model_module_version": "1.5.0",
            "_view_count": null,
            "_view_module_version": "1.5.0",
            "box_style": "",
            "layout": "IPY_MODEL_1afc7449e43842a8b25aa0634e0812b0",
            "_model_module": "@jupyter-widgets/controls",
            "children": [
              "IPY_MODEL_0ceab1672e2f4b18bac6df754076955f",
              "IPY_MODEL_7ccf70d8c87e4efc9c5b8b3b38c81b5c",
              "IPY_MODEL_6841566feda24be2b69fc1780e27b623"
            ]
          }
        },
        "1afc7449e43842a8b25aa0634e0812b0": {
          "model_module": "@jupyter-widgets/base",
          "model_name": "LayoutModel",
          "state": {
            "_view_name": "LayoutView",
            "grid_template_rows": null,
            "right": null,
            "justify_content": null,
            "_view_module": "@jupyter-widgets/base",
            "overflow": null,
            "_model_module_version": "1.2.0",
            "_view_count": null,
            "flex_flow": null,
            "width": null,
            "min_width": null,
            "border": null,
            "align_items": null,
            "bottom": null,
            "_model_module": "@jupyter-widgets/base",
            "top": null,
            "grid_column": null,
            "overflow_y": null,
            "overflow_x": null,
            "grid_auto_flow": null,
            "grid_area": null,
            "grid_template_columns": null,
            "flex": null,
            "_model_name": "LayoutModel",
            "justify_items": null,
            "grid_row": null,
            "max_height": null,
            "align_content": null,
            "visibility": null,
            "align_self": null,
            "height": null,
            "min_height": null,
            "padding": null,
            "grid_auto_rows": null,
            "grid_gap": null,
            "max_width": null,
            "order": null,
            "_view_module_version": "1.2.0",
            "grid_template_areas": null,
            "object_position": null,
            "object_fit": null,
            "grid_auto_columns": null,
            "margin": null,
            "display": null,
            "left": null
          }
        },
        "0ceab1672e2f4b18bac6df754076955f": {
          "model_module": "@jupyter-widgets/controls",
          "model_name": "HTMLModel",
          "state": {
            "_view_name": "HTMLView",
            "style": "IPY_MODEL_831c97f9ec2a4889928bba2ca319e326",
            "_dom_classes": [],
            "description": "",
            "_model_name": "HTMLModel",
            "placeholder": "​",
            "_view_module": "@jupyter-widgets/controls",
            "_model_module_version": "1.5.0",
            "value": "train.tsv: 100%",
            "_view_count": null,
            "_view_module_version": "1.5.0",
            "description_tooltip": null,
            "_model_module": "@jupyter-widgets/controls",
            "layout": "IPY_MODEL_d31f1765913e416fb159caae82ea88e2"
          }
        },
        "7ccf70d8c87e4efc9c5b8b3b38c81b5c": {
          "model_module": "@jupyter-widgets/controls",
          "model_name": "FloatProgressModel",
          "state": {
            "_view_name": "ProgressView",
            "style": "IPY_MODEL_b52ef3d801a545389ec50cdfd78d0344",
            "_dom_classes": [],
            "description": "",
            "_model_name": "FloatProgressModel",
            "bar_style": "success",
            "max": 119127793,
            "_view_module": "@jupyter-widgets/controls",
            "_model_module_version": "1.5.0",
            "value": 119127793,
            "_view_count": null,
            "_view_module_version": "1.5.0",
            "orientation": "horizontal",
            "min": 0,
            "description_tooltip": null,
            "_model_module": "@jupyter-widgets/controls",
            "layout": "IPY_MODEL_261bbb4de1ce469c9fa786a318cbb458"
          }
        },
        "6841566feda24be2b69fc1780e27b623": {
          "model_module": "@jupyter-widgets/controls",
          "model_name": "HTMLModel",
          "state": {
            "_view_name": "HTMLView",
            "style": "IPY_MODEL_f425795ef33c429f94969edd465c4ca5",
            "_dom_classes": [],
            "description": "",
            "_model_name": "HTMLModel",
            "placeholder": "​",
            "_view_module": "@jupyter-widgets/controls",
            "_model_module_version": "1.5.0",
            "value": " 119M/119M [01:11&lt;00:00, 1.66MB/s]",
            "_view_count": null,
            "_view_module_version": "1.5.0",
            "description_tooltip": null,
            "_model_module": "@jupyter-widgets/controls",
            "layout": "IPY_MODEL_46319df4863c482c891d7c62f19d4be2"
          }
        },
        "831c97f9ec2a4889928bba2ca319e326": {
          "model_module": "@jupyter-widgets/controls",
          "model_name": "DescriptionStyleModel",
          "state": {
            "_view_name": "StyleView",
            "_model_name": "DescriptionStyleModel",
            "description_width": "",
            "_view_module": "@jupyter-widgets/base",
            "_model_module_version": "1.5.0",
            "_view_count": null,
            "_view_module_version": "1.2.0",
            "_model_module": "@jupyter-widgets/controls"
          }
        },
        "d31f1765913e416fb159caae82ea88e2": {
          "model_module": "@jupyter-widgets/base",
          "model_name": "LayoutModel",
          "state": {
            "_view_name": "LayoutView",
            "grid_template_rows": null,
            "right": null,
            "justify_content": null,
            "_view_module": "@jupyter-widgets/base",
            "overflow": null,
            "_model_module_version": "1.2.0",
            "_view_count": null,
            "flex_flow": null,
            "width": null,
            "min_width": null,
            "border": null,
            "align_items": null,
            "bottom": null,
            "_model_module": "@jupyter-widgets/base",
            "top": null,
            "grid_column": null,
            "overflow_y": null,
            "overflow_x": null,
            "grid_auto_flow": null,
            "grid_area": null,
            "grid_template_columns": null,
            "flex": null,
            "_model_name": "LayoutModel",
            "justify_items": null,
            "grid_row": null,
            "max_height": null,
            "align_content": null,
            "visibility": null,
            "align_self": null,
            "height": null,
            "min_height": null,
            "padding": null,
            "grid_auto_rows": null,
            "grid_gap": null,
            "max_width": null,
            "order": null,
            "_view_module_version": "1.2.0",
            "grid_template_areas": null,
            "object_position": null,
            "object_fit": null,
            "grid_auto_columns": null,
            "margin": null,
            "display": null,
            "left": null
          }
        },
        "b52ef3d801a545389ec50cdfd78d0344": {
          "model_module": "@jupyter-widgets/controls",
          "model_name": "ProgressStyleModel",
          "state": {
            "_view_name": "StyleView",
            "_model_name": "ProgressStyleModel",
            "description_width": "",
            "_view_module": "@jupyter-widgets/base",
            "_model_module_version": "1.5.0",
            "_view_count": null,
            "_view_module_version": "1.2.0",
            "bar_color": null,
            "_model_module": "@jupyter-widgets/controls"
          }
        },
        "261bbb4de1ce469c9fa786a318cbb458": {
          "model_module": "@jupyter-widgets/base",
          "model_name": "LayoutModel",
          "state": {
            "_view_name": "LayoutView",
            "grid_template_rows": null,
            "right": null,
            "justify_content": null,
            "_view_module": "@jupyter-widgets/base",
            "overflow": null,
            "_model_module_version": "1.2.0",
            "_view_count": null,
            "flex_flow": null,
            "width": null,
            "min_width": null,
            "border": null,
            "align_items": null,
            "bottom": null,
            "_model_module": "@jupyter-widgets/base",
            "top": null,
            "grid_column": null,
            "overflow_y": null,
            "overflow_x": null,
            "grid_auto_flow": null,
            "grid_area": null,
            "grid_template_columns": null,
            "flex": null,
            "_model_name": "LayoutModel",
            "justify_items": null,
            "grid_row": null,
            "max_height": null,
            "align_content": null,
            "visibility": null,
            "align_self": null,
            "height": null,
            "min_height": null,
            "padding": null,
            "grid_auto_rows": null,
            "grid_gap": null,
            "max_width": null,
            "order": null,
            "_view_module_version": "1.2.0",
            "grid_template_areas": null,
            "object_position": null,
            "object_fit": null,
            "grid_auto_columns": null,
            "margin": null,
            "display": null,
            "left": null
          }
        },
        "f425795ef33c429f94969edd465c4ca5": {
          "model_module": "@jupyter-widgets/controls",
          "model_name": "DescriptionStyleModel",
          "state": {
            "_view_name": "StyleView",
            "_model_name": "DescriptionStyleModel",
            "description_width": "",
            "_view_module": "@jupyter-widgets/base",
            "_model_module_version": "1.5.0",
            "_view_count": null,
            "_view_module_version": "1.2.0",
            "_model_module": "@jupyter-widgets/controls"
          }
        },
        "46319df4863c482c891d7c62f19d4be2": {
          "model_module": "@jupyter-widgets/base",
          "model_name": "LayoutModel",
          "state": {
            "_view_name": "LayoutView",
            "grid_template_rows": null,
            "right": null,
            "justify_content": null,
            "_view_module": "@jupyter-widgets/base",
            "overflow": null,
            "_model_module_version": "1.2.0",
            "_view_count": null,
            "flex_flow": null,
            "width": null,
            "min_width": null,
            "border": null,
            "align_items": null,
            "bottom": null,
            "_model_module": "@jupyter-widgets/base",
            "top": null,
            "grid_column": null,
            "overflow_y": null,
            "overflow_x": null,
            "grid_auto_flow": null,
            "grid_area": null,
            "grid_template_columns": null,
            "flex": null,
            "_model_name": "LayoutModel",
            "justify_items": null,
            "grid_row": null,
            "max_height": null,
            "align_content": null,
            "visibility": null,
            "align_self": null,
            "height": null,
            "min_height": null,
            "padding": null,
            "grid_auto_rows": null,
            "grid_gap": null,
            "max_width": null,
            "order": null,
            "_view_module_version": "1.2.0",
            "grid_template_areas": null,
            "object_position": null,
            "object_fit": null,
            "grid_auto_columns": null,
            "margin": null,
            "display": null,
            "left": null
          }
        },
        "7b4d5f1aae3d4afe92b831353437154a": {
          "model_module": "@jupyter-widgets/controls",
          "model_name": "HBoxModel",
          "state": {
            "_view_name": "HBoxView",
            "_dom_classes": [],
            "_model_name": "HBoxModel",
            "_view_module": "@jupyter-widgets/controls",
            "_model_module_version": "1.5.0",
            "_view_count": null,
            "_view_module_version": "1.5.0",
            "box_style": "",
            "layout": "IPY_MODEL_ee189c95433e4520a3e8acc12a8e442b",
            "_model_module": "@jupyter-widgets/controls",
            "children": [
              "IPY_MODEL_ae51419b8c9349dcb2a9b99ee7ce1625",
              "IPY_MODEL_a530b52fda584a029a1dd3c1e574ea3c",
              "IPY_MODEL_34d8acaa7098437cb179fea6b76ac106"
            ]
          }
        },
        "ee189c95433e4520a3e8acc12a8e442b": {
          "model_module": "@jupyter-widgets/base",
          "model_name": "LayoutModel",
          "state": {
            "_view_name": "LayoutView",
            "grid_template_rows": null,
            "right": null,
            "justify_content": null,
            "_view_module": "@jupyter-widgets/base",
            "overflow": null,
            "_model_module_version": "1.2.0",
            "_view_count": null,
            "flex_flow": null,
            "width": null,
            "min_width": null,
            "border": null,
            "align_items": null,
            "bottom": null,
            "_model_module": "@jupyter-widgets/base",
            "top": null,
            "grid_column": null,
            "overflow_y": null,
            "overflow_x": null,
            "grid_auto_flow": null,
            "grid_area": null,
            "grid_template_columns": null,
            "flex": null,
            "_model_name": "LayoutModel",
            "justify_items": null,
            "grid_row": null,
            "max_height": null,
            "align_content": null,
            "visibility": null,
            "align_self": null,
            "height": null,
            "min_height": null,
            "padding": null,
            "grid_auto_rows": null,
            "grid_gap": null,
            "max_width": null,
            "order": null,
            "_view_module_version": "1.2.0",
            "grid_template_areas": null,
            "object_position": null,
            "object_fit": null,
            "grid_auto_columns": null,
            "margin": null,
            "display": null,
            "left": null
          }
        },
        "ae51419b8c9349dcb2a9b99ee7ce1625": {
          "model_module": "@jupyter-widgets/controls",
          "model_name": "HTMLModel",
          "state": {
            "_view_name": "HTMLView",
            "style": "IPY_MODEL_9677b3e6c74f41de977353a3f7fc72b0",
            "_dom_classes": [],
            "description": "",
            "_model_name": "HTMLModel",
            "placeholder": "​",
            "_view_module": "@jupyter-widgets/controls",
            "_model_module_version": "1.5.0",
            "value": "validation.tsv: 100%",
            "_view_count": null,
            "_view_module_version": "1.5.0",
            "description_tooltip": null,
            "_model_module": "@jupyter-widgets/controls",
            "layout": "IPY_MODEL_1695450a4a4a4f3a9fb7a6b1c0998c87"
          }
        },
        "a530b52fda584a029a1dd3c1e574ea3c": {
          "model_module": "@jupyter-widgets/controls",
          "model_name": "FloatProgressModel",
          "state": {
            "_view_name": "ProgressView",
            "style": "IPY_MODEL_6f06df36c9c94f7c8a8d53b8be3590da",
            "_dom_classes": [],
            "description": "",
            "_model_name": "FloatProgressModel",
            "bar_style": "success",
            "max": 535543630,
            "_view_module": "@jupyter-widgets/controls",
            "_model_module_version": "1.5.0",
            "value": 535543630,
            "_view_count": null,
            "_view_module_version": "1.5.0",
            "orientation": "horizontal",
            "min": 0,
            "description_tooltip": null,
            "_model_module": "@jupyter-widgets/controls",
            "layout": "IPY_MODEL_dd111fc08e3044438b45fffb702317ab"
          }
        },
        "34d8acaa7098437cb179fea6b76ac106": {
          "model_module": "@jupyter-widgets/controls",
          "model_name": "HTMLModel",
          "state": {
            "_view_name": "HTMLView",
            "style": "IPY_MODEL_912626d7600f4741a970dff8ac1f572c",
            "_dom_classes": [],
            "description": "",
            "_model_name": "HTMLModel",
            "placeholder": "​",
            "_view_module": "@jupyter-widgets/controls",
            "_model_module_version": "1.5.0",
            "value": " 536M/536M [00:16&lt;00:00, 32.4MB/s]",
            "_view_count": null,
            "_view_module_version": "1.5.0",
            "description_tooltip": null,
            "_model_module": "@jupyter-widgets/controls",
            "layout": "IPY_MODEL_182d02c7519d45b6aa2af9ac744ec05f"
          }
        },
        "9677b3e6c74f41de977353a3f7fc72b0": {
          "model_module": "@jupyter-widgets/controls",
          "model_name": "DescriptionStyleModel",
          "state": {
            "_view_name": "StyleView",
            "_model_name": "DescriptionStyleModel",
            "description_width": "",
            "_view_module": "@jupyter-widgets/base",
            "_model_module_version": "1.5.0",
            "_view_count": null,
            "_view_module_version": "1.2.0",
            "_model_module": "@jupyter-widgets/controls"
          }
        },
        "1695450a4a4a4f3a9fb7a6b1c0998c87": {
          "model_module": "@jupyter-widgets/base",
          "model_name": "LayoutModel",
          "state": {
            "_view_name": "LayoutView",
            "grid_template_rows": null,
            "right": null,
            "justify_content": null,
            "_view_module": "@jupyter-widgets/base",
            "overflow": null,
            "_model_module_version": "1.2.0",
            "_view_count": null,
            "flex_flow": null,
            "width": null,
            "min_width": null,
            "border": null,
            "align_items": null,
            "bottom": null,
            "_model_module": "@jupyter-widgets/base",
            "top": null,
            "grid_column": null,
            "overflow_y": null,
            "overflow_x": null,
            "grid_auto_flow": null,
            "grid_area": null,
            "grid_template_columns": null,
            "flex": null,
            "_model_name": "LayoutModel",
            "justify_items": null,
            "grid_row": null,
            "max_height": null,
            "align_content": null,
            "visibility": null,
            "align_self": null,
            "height": null,
            "min_height": null,
            "padding": null,
            "grid_auto_rows": null,
            "grid_gap": null,
            "max_width": null,
            "order": null,
            "_view_module_version": "1.2.0",
            "grid_template_areas": null,
            "object_position": null,
            "object_fit": null,
            "grid_auto_columns": null,
            "margin": null,
            "display": null,
            "left": null
          }
        },
        "6f06df36c9c94f7c8a8d53b8be3590da": {
          "model_module": "@jupyter-widgets/controls",
          "model_name": "ProgressStyleModel",
          "state": {
            "_view_name": "StyleView",
            "_model_name": "ProgressStyleModel",
            "description_width": "",
            "_view_module": "@jupyter-widgets/base",
            "_model_module_version": "1.5.0",
            "_view_count": null,
            "_view_module_version": "1.2.0",
            "bar_color": null,
            "_model_module": "@jupyter-widgets/controls"
          }
        },
        "dd111fc08e3044438b45fffb702317ab": {
          "model_module": "@jupyter-widgets/base",
          "model_name": "LayoutModel",
          "state": {
            "_view_name": "LayoutView",
            "grid_template_rows": null,
            "right": null,
            "justify_content": null,
            "_view_module": "@jupyter-widgets/base",
            "overflow": null,
            "_model_module_version": "1.2.0",
            "_view_count": null,
            "flex_flow": null,
            "width": null,
            "min_width": null,
            "border": null,
            "align_items": null,
            "bottom": null,
            "_model_module": "@jupyter-widgets/base",
            "top": null,
            "grid_column": null,
            "overflow_y": null,
            "overflow_x": null,
            "grid_auto_flow": null,
            "grid_area": null,
            "grid_template_columns": null,
            "flex": null,
            "_model_name": "LayoutModel",
            "justify_items": null,
            "grid_row": null,
            "max_height": null,
            "align_content": null,
            "visibility": null,
            "align_self": null,
            "height": null,
            "min_height": null,
            "padding": null,
            "grid_auto_rows": null,
            "grid_gap": null,
            "max_width": null,
            "order": null,
            "_view_module_version": "1.2.0",
            "grid_template_areas": null,
            "object_position": null,
            "object_fit": null,
            "grid_auto_columns": null,
            "margin": null,
            "display": null,
            "left": null
          }
        },
        "912626d7600f4741a970dff8ac1f572c": {
          "model_module": "@jupyter-widgets/controls",
          "model_name": "DescriptionStyleModel",
          "state": {
            "_view_name": "StyleView",
            "_model_name": "DescriptionStyleModel",
            "description_width": "",
            "_view_module": "@jupyter-widgets/base",
            "_model_module_version": "1.5.0",
            "_view_count": null,
            "_view_module_version": "1.2.0",
            "_model_module": "@jupyter-widgets/controls"
          }
        },
        "182d02c7519d45b6aa2af9ac744ec05f": {
          "model_module": "@jupyter-widgets/base",
          "model_name": "LayoutModel",
          "state": {
            "_view_name": "LayoutView",
            "grid_template_rows": null,
            "right": null,
            "justify_content": null,
            "_view_module": "@jupyter-widgets/base",
            "overflow": null,
            "_model_module_version": "1.2.0",
            "_view_count": null,
            "flex_flow": null,
            "width": null,
            "min_width": null,
            "border": null,
            "align_items": null,
            "bottom": null,
            "_model_module": "@jupyter-widgets/base",
            "top": null,
            "grid_column": null,
            "overflow_y": null,
            "overflow_x": null,
            "grid_auto_flow": null,
            "grid_area": null,
            "grid_template_columns": null,
            "flex": null,
            "_model_name": "LayoutModel",
            "justify_items": null,
            "grid_row": null,
            "max_height": null,
            "align_content": null,
            "visibility": null,
            "align_self": null,
            "height": null,
            "min_height": null,
            "padding": null,
            "grid_auto_rows": null,
            "grid_gap": null,
            "max_width": null,
            "order": null,
            "_view_module_version": "1.2.0",
            "grid_template_areas": null,
            "object_position": null,
            "object_fit": null,
            "grid_auto_columns": null,
            "margin": null,
            "display": null,
            "left": null
          }
        },
        "6ac363ecff4d4fa78d38300c77d07282": {
          "model_module": "@jupyter-widgets/controls",
          "model_name": "HBoxModel",
          "state": {
            "_view_name": "HBoxView",
            "_dom_classes": [],
            "_model_name": "HBoxModel",
            "_view_module": "@jupyter-widgets/controls",
            "_model_module_version": "1.5.0",
            "_view_count": null,
            "_view_module_version": "1.5.0",
            "box_style": "",
            "layout": "IPY_MODEL_91fd6e2c657e4fcda183b68a78326b6f",
            "_model_module": "@jupyter-widgets/controls",
            "children": [
              "IPY_MODEL_f412157844114202b0b205c4595204cf",
              "IPY_MODEL_0c654e4687054b778cba7b9cf64c6bbb",
              "IPY_MODEL_5336fe70df8a4e63b69ccc591f94d60e"
            ]
          }
        },
        "91fd6e2c657e4fcda183b68a78326b6f": {
          "model_module": "@jupyter-widgets/base",
          "model_name": "LayoutModel",
          "state": {
            "_view_name": "LayoutView",
            "grid_template_rows": null,
            "right": null,
            "justify_content": null,
            "_view_module": "@jupyter-widgets/base",
            "overflow": null,
            "_model_module_version": "1.2.0",
            "_view_count": null,
            "flex_flow": null,
            "width": null,
            "min_width": null,
            "border": null,
            "align_items": null,
            "bottom": null,
            "_model_module": "@jupyter-widgets/base",
            "top": null,
            "grid_column": null,
            "overflow_y": null,
            "overflow_x": null,
            "grid_auto_flow": null,
            "grid_area": null,
            "grid_template_columns": null,
            "flex": null,
            "_model_name": "LayoutModel",
            "justify_items": null,
            "grid_row": null,
            "max_height": null,
            "align_content": null,
            "visibility": null,
            "align_self": null,
            "height": null,
            "min_height": null,
            "padding": null,
            "grid_auto_rows": null,
            "grid_gap": null,
            "max_width": null,
            "order": null,
            "_view_module_version": "1.2.0",
            "grid_template_areas": null,
            "object_position": null,
            "object_fit": null,
            "grid_auto_columns": null,
            "margin": null,
            "display": null,
            "left": null
          }
        },
        "f412157844114202b0b205c4595204cf": {
          "model_module": "@jupyter-widgets/controls",
          "model_name": "HTMLModel",
          "state": {
            "_view_name": "HTMLView",
            "style": "IPY_MODEL_beacfe0fb59249769fc26f365d6fcec6",
            "_dom_classes": [],
            "description": "",
            "_model_name": "HTMLModel",
            "placeholder": "​",
            "_view_module": "@jupyter-widgets/controls",
            "_model_module_version": "1.5.0",
            "value": "test.tsv: 100%",
            "_view_count": null,
            "_view_module_version": "1.5.0",
            "description_tooltip": null,
            "_model_module": "@jupyter-widgets/controls",
            "layout": "IPY_MODEL_0a3c31a83470413fb4eb6ff2a480f22a"
          }
        },
        "0c654e4687054b778cba7b9cf64c6bbb": {
          "model_module": "@jupyter-widgets/controls",
          "model_name": "FloatProgressModel",
          "state": {
            "_view_name": "ProgressView",
            "style": "IPY_MODEL_cf779a2c47c64935abc0e712e1f676dc",
            "_dom_classes": [],
            "description": "",
            "_model_name": "FloatProgressModel",
            "bar_style": "success",
            "max": 46408910,
            "_view_module": "@jupyter-widgets/controls",
            "_model_module_version": "1.5.0",
            "value": 46408910,
            "_view_count": null,
            "_view_module_version": "1.5.0",
            "orientation": "horizontal",
            "min": 0,
            "description_tooltip": null,
            "_model_module": "@jupyter-widgets/controls",
            "layout": "IPY_MODEL_a4ac3883472b45d39676318c2b174661"
          }
        },
        "5336fe70df8a4e63b69ccc591f94d60e": {
          "model_module": "@jupyter-widgets/controls",
          "model_name": "HTMLModel",
          "state": {
            "_view_name": "HTMLView",
            "style": "IPY_MODEL_7742c8202daa4eee8ac966b9c8c9c970",
            "_dom_classes": [],
            "description": "",
            "_model_name": "HTMLModel",
            "placeholder": "​",
            "_view_module": "@jupyter-widgets/controls",
            "_model_module_version": "1.5.0",
            "value": " 46.4M/46.4M [00:50&lt;00:00, 915kB/s]",
            "_view_count": null,
            "_view_module_version": "1.5.0",
            "description_tooltip": null,
            "_model_module": "@jupyter-widgets/controls",
            "layout": "IPY_MODEL_5541a1fab96341959fdafbc5ea071843"
          }
        },
        "beacfe0fb59249769fc26f365d6fcec6": {
          "model_module": "@jupyter-widgets/controls",
          "model_name": "DescriptionStyleModel",
          "state": {
            "_view_name": "StyleView",
            "_model_name": "DescriptionStyleModel",
            "description_width": "",
            "_view_module": "@jupyter-widgets/base",
            "_model_module_version": "1.5.0",
            "_view_count": null,
            "_view_module_version": "1.2.0",
            "_model_module": "@jupyter-widgets/controls"
          }
        },
        "0a3c31a83470413fb4eb6ff2a480f22a": {
          "model_module": "@jupyter-widgets/base",
          "model_name": "LayoutModel",
          "state": {
            "_view_name": "LayoutView",
            "grid_template_rows": null,
            "right": null,
            "justify_content": null,
            "_view_module": "@jupyter-widgets/base",
            "overflow": null,
            "_model_module_version": "1.2.0",
            "_view_count": null,
            "flex_flow": null,
            "width": null,
            "min_width": null,
            "border": null,
            "align_items": null,
            "bottom": null,
            "_model_module": "@jupyter-widgets/base",
            "top": null,
            "grid_column": null,
            "overflow_y": null,
            "overflow_x": null,
            "grid_auto_flow": null,
            "grid_area": null,
            "grid_template_columns": null,
            "flex": null,
            "_model_name": "LayoutModel",
            "justify_items": null,
            "grid_row": null,
            "max_height": null,
            "align_content": null,
            "visibility": null,
            "align_self": null,
            "height": null,
            "min_height": null,
            "padding": null,
            "grid_auto_rows": null,
            "grid_gap": null,
            "max_width": null,
            "order": null,
            "_view_module_version": "1.2.0",
            "grid_template_areas": null,
            "object_position": null,
            "object_fit": null,
            "grid_auto_columns": null,
            "margin": null,
            "display": null,
            "left": null
          }
        },
        "cf779a2c47c64935abc0e712e1f676dc": {
          "model_module": "@jupyter-widgets/controls",
          "model_name": "ProgressStyleModel",
          "state": {
            "_view_name": "StyleView",
            "_model_name": "ProgressStyleModel",
            "description_width": "",
            "_view_module": "@jupyter-widgets/base",
            "_model_module_version": "1.5.0",
            "_view_count": null,
            "_view_module_version": "1.2.0",
            "bar_color": null,
            "_model_module": "@jupyter-widgets/controls"
          }
        },
        "a4ac3883472b45d39676318c2b174661": {
          "model_module": "@jupyter-widgets/base",
          "model_name": "LayoutModel",
          "state": {
            "_view_name": "LayoutView",
            "grid_template_rows": null,
            "right": null,
            "justify_content": null,
            "_view_module": "@jupyter-widgets/base",
            "overflow": null,
            "_model_module_version": "1.2.0",
            "_view_count": null,
            "flex_flow": null,
            "width": null,
            "min_width": null,
            "border": null,
            "align_items": null,
            "bottom": null,
            "_model_module": "@jupyter-widgets/base",
            "top": null,
            "grid_column": null,
            "overflow_y": null,
            "overflow_x": null,
            "grid_auto_flow": null,
            "grid_area": null,
            "grid_template_columns": null,
            "flex": null,
            "_model_name": "LayoutModel",
            "justify_items": null,
            "grid_row": null,
            "max_height": null,
            "align_content": null,
            "visibility": null,
            "align_self": null,
            "height": null,
            "min_height": null,
            "padding": null,
            "grid_auto_rows": null,
            "grid_gap": null,
            "max_width": null,
            "order": null,
            "_view_module_version": "1.2.0",
            "grid_template_areas": null,
            "object_position": null,
            "object_fit": null,
            "grid_auto_columns": null,
            "margin": null,
            "display": null,
            "left": null
          }
        },
        "7742c8202daa4eee8ac966b9c8c9c970": {
          "model_module": "@jupyter-widgets/controls",
          "model_name": "DescriptionStyleModel",
          "state": {
            "_view_name": "StyleView",
            "_model_name": "DescriptionStyleModel",
            "description_width": "",
            "_view_module": "@jupyter-widgets/base",
            "_model_module_version": "1.5.0",
            "_view_count": null,
            "_view_module_version": "1.2.0",
            "_model_module": "@jupyter-widgets/controls"
          }
        },
        "5541a1fab96341959fdafbc5ea071843": {
          "model_module": "@jupyter-widgets/base",
          "model_name": "LayoutModel",
          "state": {
            "_view_name": "LayoutView",
            "grid_template_rows": null,
            "right": null,
            "justify_content": null,
            "_view_module": "@jupyter-widgets/base",
            "overflow": null,
            "_model_module_version": "1.2.0",
            "_view_count": null,
            "flex_flow": null,
            "width": null,
            "min_width": null,
            "border": null,
            "align_items": null,
            "bottom": null,
            "_model_module": "@jupyter-widgets/base",
            "top": null,
            "grid_column": null,
            "overflow_y": null,
            "overflow_x": null,
            "grid_auto_flow": null,
            "grid_area": null,
            "grid_template_columns": null,
            "flex": null,
            "_model_name": "LayoutModel",
            "justify_items": null,
            "grid_row": null,
            "max_height": null,
            "align_content": null,
            "visibility": null,
            "align_self": null,
            "height": null,
            "min_height": null,
            "padding": null,
            "grid_auto_rows": null,
            "grid_gap": null,
            "max_width": null,
            "order": null,
            "_view_module_version": "1.2.0",
            "grid_template_areas": null,
            "object_position": null,
            "object_fit": null,
            "grid_auto_columns": null,
            "margin": null,
            "display": null,
            "left": null
          }
        },
        "064e8751f0604427b64e1822f75bd0a0": {
          "model_module": "@jupyter-widgets/controls",
          "model_name": "HBoxModel",
          "state": {
            "_view_name": "HBoxView",
            "_dom_classes": [],
            "_model_name": "HBoxModel",
            "_view_module": "@jupyter-widgets/controls",
            "_model_module_version": "1.5.0",
            "_view_count": null,
            "_view_module_version": "1.5.0",
            "box_style": "",
            "layout": "IPY_MODEL_09f685f9efd746069e4366df5d786af6",
            "_model_module": "@jupyter-widgets/controls",
            "children": [
              "IPY_MODEL_4c114777c639493f8888e856f32e68d3",
              "IPY_MODEL_922e06d6b075473f92496083ca3a2484",
              "IPY_MODEL_304c87c88af5417faac67e8ea06b53df"
            ]
          }
        },
        "09f685f9efd746069e4366df5d786af6": {
          "model_module": "@jupyter-widgets/base",
          "model_name": "LayoutModel",
          "state": {
            "_view_name": "LayoutView",
            "grid_template_rows": null,
            "right": null,
            "justify_content": null,
            "_view_module": "@jupyter-widgets/base",
            "overflow": null,
            "_model_module_version": "1.2.0",
            "_view_count": null,
            "flex_flow": null,
            "width": null,
            "min_width": null,
            "border": null,
            "align_items": null,
            "bottom": null,
            "_model_module": "@jupyter-widgets/base",
            "top": null,
            "grid_column": null,
            "overflow_y": null,
            "overflow_x": null,
            "grid_auto_flow": null,
            "grid_area": null,
            "grid_template_columns": null,
            "flex": null,
            "_model_name": "LayoutModel",
            "justify_items": null,
            "grid_row": null,
            "max_height": null,
            "align_content": null,
            "visibility": null,
            "align_self": null,
            "height": null,
            "min_height": null,
            "padding": null,
            "grid_auto_rows": null,
            "grid_gap": null,
            "max_width": null,
            "order": null,
            "_view_module_version": "1.2.0",
            "grid_template_areas": null,
            "object_position": null,
            "object_fit": null,
            "grid_auto_columns": null,
            "margin": null,
            "display": null,
            "left": null
          }
        },
        "4c114777c639493f8888e856f32e68d3": {
          "model_module": "@jupyter-widgets/controls",
          "model_name": "HTMLModel",
          "state": {
            "_view_name": "HTMLView",
            "style": "IPY_MODEL_4f35f094915543408a99a8857392cf48",
            "_dom_classes": [],
            "description": "",
            "_model_name": "HTMLModel",
            "placeholder": "​",
            "_view_module": "@jupyter-widgets/controls",
            "_model_module_version": "1.5.0",
            "value": "test_embeddings.tsv: 100%",
            "_view_count": null,
            "_view_module_version": "1.5.0",
            "description_tooltip": null,
            "_model_module": "@jupyter-widgets/controls",
            "layout": "IPY_MODEL_5d5c4c068cd2437a92cbb6deea8730f9"
          }
        },
        "922e06d6b075473f92496083ca3a2484": {
          "model_module": "@jupyter-widgets/controls",
          "model_name": "FloatProgressModel",
          "state": {
            "_view_name": "ProgressView",
            "style": "IPY_MODEL_cadb811a59ab4c1fa781d90c6972a2ab",
            "_dom_classes": [],
            "description": "",
            "_model_name": "FloatProgressModel",
            "bar_style": "success",
            "max": 5333,
            "_view_module": "@jupyter-widgets/controls",
            "_model_module_version": "1.5.0",
            "value": 5333,
            "_view_count": null,
            "_view_module_version": "1.5.0",
            "orientation": "horizontal",
            "min": 0,
            "description_tooltip": null,
            "_model_module": "@jupyter-widgets/controls",
            "layout": "IPY_MODEL_bd7b991a698c47789866fc467f007415"
          }
        },
        "304c87c88af5417faac67e8ea06b53df": {
          "model_module": "@jupyter-widgets/controls",
          "model_name": "HTMLModel",
          "state": {
            "_view_name": "HTMLView",
            "style": "IPY_MODEL_4a795b1328af41199c88904900ddf9a3",
            "_dom_classes": [],
            "description": "",
            "_model_name": "HTMLModel",
            "placeholder": "​",
            "_view_module": "@jupyter-widgets/controls",
            "_model_module_version": "1.5.0",
            "value": " 5.33k/5.33k [00:48&lt;00:00, 111B/s]",
            "_view_count": null,
            "_view_module_version": "1.5.0",
            "description_tooltip": null,
            "_model_module": "@jupyter-widgets/controls",
            "layout": "IPY_MODEL_905af4a0e32143f380eb9f236ae5efd4"
          }
        },
        "4f35f094915543408a99a8857392cf48": {
          "model_module": "@jupyter-widgets/controls",
          "model_name": "DescriptionStyleModel",
          "state": {
            "_view_name": "StyleView",
            "_model_name": "DescriptionStyleModel",
            "description_width": "",
            "_view_module": "@jupyter-widgets/base",
            "_model_module_version": "1.5.0",
            "_view_count": null,
            "_view_module_version": "1.2.0",
            "_model_module": "@jupyter-widgets/controls"
          }
        },
        "5d5c4c068cd2437a92cbb6deea8730f9": {
          "model_module": "@jupyter-widgets/base",
          "model_name": "LayoutModel",
          "state": {
            "_view_name": "LayoutView",
            "grid_template_rows": null,
            "right": null,
            "justify_content": null,
            "_view_module": "@jupyter-widgets/base",
            "overflow": null,
            "_model_module_version": "1.2.0",
            "_view_count": null,
            "flex_flow": null,
            "width": null,
            "min_width": null,
            "border": null,
            "align_items": null,
            "bottom": null,
            "_model_module": "@jupyter-widgets/base",
            "top": null,
            "grid_column": null,
            "overflow_y": null,
            "overflow_x": null,
            "grid_auto_flow": null,
            "grid_area": null,
            "grid_template_columns": null,
            "flex": null,
            "_model_name": "LayoutModel",
            "justify_items": null,
            "grid_row": null,
            "max_height": null,
            "align_content": null,
            "visibility": null,
            "align_self": null,
            "height": null,
            "min_height": null,
            "padding": null,
            "grid_auto_rows": null,
            "grid_gap": null,
            "max_width": null,
            "order": null,
            "_view_module_version": "1.2.0",
            "grid_template_areas": null,
            "object_position": null,
            "object_fit": null,
            "grid_auto_columns": null,
            "margin": null,
            "display": null,
            "left": null
          }
        },
        "cadb811a59ab4c1fa781d90c6972a2ab": {
          "model_module": "@jupyter-widgets/controls",
          "model_name": "ProgressStyleModel",
          "state": {
            "_view_name": "StyleView",
            "_model_name": "ProgressStyleModel",
            "description_width": "",
            "_view_module": "@jupyter-widgets/base",
            "_model_module_version": "1.5.0",
            "_view_count": null,
            "_view_module_version": "1.2.0",
            "bar_color": null,
            "_model_module": "@jupyter-widgets/controls"
          }
        },
        "bd7b991a698c47789866fc467f007415": {
          "model_module": "@jupyter-widgets/base",
          "model_name": "LayoutModel",
          "state": {
            "_view_name": "LayoutView",
            "grid_template_rows": null,
            "right": null,
            "justify_content": null,
            "_view_module": "@jupyter-widgets/base",
            "overflow": null,
            "_model_module_version": "1.2.0",
            "_view_count": null,
            "flex_flow": null,
            "width": null,
            "min_width": null,
            "border": null,
            "align_items": null,
            "bottom": null,
            "_model_module": "@jupyter-widgets/base",
            "top": null,
            "grid_column": null,
            "overflow_y": null,
            "overflow_x": null,
            "grid_auto_flow": null,
            "grid_area": null,
            "grid_template_columns": null,
            "flex": null,
            "_model_name": "LayoutModel",
            "justify_items": null,
            "grid_row": null,
            "max_height": null,
            "align_content": null,
            "visibility": null,
            "align_self": null,
            "height": null,
            "min_height": null,
            "padding": null,
            "grid_auto_rows": null,
            "grid_gap": null,
            "max_width": null,
            "order": null,
            "_view_module_version": "1.2.0",
            "grid_template_areas": null,
            "object_position": null,
            "object_fit": null,
            "grid_auto_columns": null,
            "margin": null,
            "display": null,
            "left": null
          }
        },
        "4a795b1328af41199c88904900ddf9a3": {
          "model_module": "@jupyter-widgets/controls",
          "model_name": "DescriptionStyleModel",
          "state": {
            "_view_name": "StyleView",
            "_model_name": "DescriptionStyleModel",
            "description_width": "",
            "_view_module": "@jupyter-widgets/base",
            "_model_module_version": "1.5.0",
            "_view_count": null,
            "_view_module_version": "1.2.0",
            "_model_module": "@jupyter-widgets/controls"
          }
        },
        "905af4a0e32143f380eb9f236ae5efd4": {
          "model_module": "@jupyter-widgets/base",
          "model_name": "LayoutModel",
          "state": {
            "_view_name": "LayoutView",
            "grid_template_rows": null,
            "right": null,
            "justify_content": null,
            "_view_module": "@jupyter-widgets/base",
            "overflow": null,
            "_model_module_version": "1.2.0",
            "_view_count": null,
            "flex_flow": null,
            "width": null,
            "min_width": null,
            "border": null,
            "align_items": null,
            "bottom": null,
            "_model_module": "@jupyter-widgets/base",
            "top": null,
            "grid_column": null,
            "overflow_y": null,
            "overflow_x": null,
            "grid_auto_flow": null,
            "grid_area": null,
            "grid_template_columns": null,
            "flex": null,
            "_model_name": "LayoutModel",
            "justify_items": null,
            "grid_row": null,
            "max_height": null,
            "align_content": null,
            "visibility": null,
            "align_self": null,
            "height": null,
            "min_height": null,
            "padding": null,
            "grid_auto_rows": null,
            "grid_gap": null,
            "max_width": null,
            "order": null,
            "_view_module_version": "1.2.0",
            "grid_template_areas": null,
            "object_position": null,
            "object_fit": null,
            "grid_auto_columns": null,
            "margin": null,
            "display": null,
            "left": null
          }
        },
        "3f8e615409df40ea8fd39ed2ea674573": {
          "model_module": "@jupyter-widgets/controls",
          "model_name": "HBoxModel",
          "state": {
            "_view_name": "HBoxView",
            "_dom_classes": [],
            "_model_name": "HBoxModel",
            "_view_module": "@jupyter-widgets/controls",
            "_model_module_version": "1.5.0",
            "_view_count": null,
            "_view_module_version": "1.5.0",
            "box_style": "",
            "layout": "IPY_MODEL_3fc9585189434a07935d5fb0841c071e",
            "_model_module": "@jupyter-widgets/controls",
            "children": [
              "IPY_MODEL_f2b1e45ec8334fd8a209acea406e5964",
              "IPY_MODEL_1c2036e2c7a74b85afebfc0b5fd9f32b",
              "IPY_MODEL_892e2ff740bb4a2b907cdc6ce19582ac"
            ]
          }
        },
        "3fc9585189434a07935d5fb0841c071e": {
          "model_module": "@jupyter-widgets/base",
          "model_name": "LayoutModel",
          "state": {
            "_view_name": "LayoutView",
            "grid_template_rows": null,
            "right": null,
            "justify_content": null,
            "_view_module": "@jupyter-widgets/base",
            "overflow": null,
            "_model_module_version": "1.2.0",
            "_view_count": null,
            "flex_flow": null,
            "width": null,
            "min_width": null,
            "border": null,
            "align_items": null,
            "bottom": null,
            "_model_module": "@jupyter-widgets/base",
            "top": null,
            "grid_column": null,
            "overflow_y": null,
            "overflow_x": null,
            "grid_auto_flow": null,
            "grid_area": null,
            "grid_template_columns": null,
            "flex": null,
            "_model_name": "LayoutModel",
            "justify_items": null,
            "grid_row": null,
            "max_height": null,
            "align_content": null,
            "visibility": null,
            "align_self": null,
            "height": null,
            "min_height": null,
            "padding": null,
            "grid_auto_rows": null,
            "grid_gap": null,
            "max_width": null,
            "order": null,
            "_view_module_version": "1.2.0",
            "grid_template_areas": null,
            "object_position": null,
            "object_fit": null,
            "grid_auto_columns": null,
            "margin": null,
            "display": null,
            "left": null
          }
        },
        "f2b1e45ec8334fd8a209acea406e5964": {
          "model_module": "@jupyter-widgets/controls",
          "model_name": "HTMLModel",
          "state": {
            "_view_name": "HTMLView",
            "style": "IPY_MODEL_09b6bbba1ef04c4ba721420031317322",
            "_dom_classes": [],
            "description": "",
            "_model_name": "HTMLModel",
            "placeholder": "​",
            "_view_module": "@jupyter-widgets/controls",
            "_model_module_version": "1.5.0",
            "value": "GoogleNews-vectors-negative300.bin.gz: 100%",
            "_view_count": null,
            "_view_module_version": "1.5.0",
            "description_tooltip": null,
            "_model_module": "@jupyter-widgets/controls",
            "layout": "IPY_MODEL_fce5c9bd0f8a4c1cabbaec4eac9505f3"
          }
        },
        "1c2036e2c7a74b85afebfc0b5fd9f32b": {
          "model_module": "@jupyter-widgets/controls",
          "model_name": "FloatProgressModel",
          "state": {
            "_view_name": "ProgressView",
            "style": "IPY_MODEL_64ebb655cbdc4c7d8acacaeb6d8a62ae",
            "_dom_classes": [],
            "description": "",
            "_model_name": "FloatProgressModel",
            "bar_style": "success",
            "max": 1647046227,
            "_view_module": "@jupyter-widgets/controls",
            "_model_module_version": "1.5.0",
            "value": 1647046227,
            "_view_count": null,
            "_view_module_version": "1.5.0",
            "orientation": "horizontal",
            "min": 0,
            "description_tooltip": null,
            "_model_module": "@jupyter-widgets/controls",
            "layout": "IPY_MODEL_c7219fc93f2142f89a0a572cd6ce1c99"
          }
        },
        "892e2ff740bb4a2b907cdc6ce19582ac": {
          "model_module": "@jupyter-widgets/controls",
          "model_name": "HTMLModel",
          "state": {
            "_view_name": "HTMLView",
            "style": "IPY_MODEL_b5850005853943e1b9538eb9b1962ec5",
            "_dom_classes": [],
            "description": "",
            "_model_name": "HTMLModel",
            "placeholder": "​",
            "_view_module": "@jupyter-widgets/controls",
            "_model_module_version": "1.5.0",
            "value": " 1.65G/1.65G [00:47&lt;00:00, 34.5MB/s]",
            "_view_count": null,
            "_view_module_version": "1.5.0",
            "description_tooltip": null,
            "_model_module": "@jupyter-widgets/controls",
            "layout": "IPY_MODEL_3a1a1c1f2c544007ad22e0de1331de12"
          }
        },
        "09b6bbba1ef04c4ba721420031317322": {
          "model_module": "@jupyter-widgets/controls",
          "model_name": "DescriptionStyleModel",
          "state": {
            "_view_name": "StyleView",
            "_model_name": "DescriptionStyleModel",
            "description_width": "",
            "_view_module": "@jupyter-widgets/base",
            "_model_module_version": "1.5.0",
            "_view_count": null,
            "_view_module_version": "1.2.0",
            "_model_module": "@jupyter-widgets/controls"
          }
        },
        "fce5c9bd0f8a4c1cabbaec4eac9505f3": {
          "model_module": "@jupyter-widgets/base",
          "model_name": "LayoutModel",
          "state": {
            "_view_name": "LayoutView",
            "grid_template_rows": null,
            "right": null,
            "justify_content": null,
            "_view_module": "@jupyter-widgets/base",
            "overflow": null,
            "_model_module_version": "1.2.0",
            "_view_count": null,
            "flex_flow": null,
            "width": null,
            "min_width": null,
            "border": null,
            "align_items": null,
            "bottom": null,
            "_model_module": "@jupyter-widgets/base",
            "top": null,
            "grid_column": null,
            "overflow_y": null,
            "overflow_x": null,
            "grid_auto_flow": null,
            "grid_area": null,
            "grid_template_columns": null,
            "flex": null,
            "_model_name": "LayoutModel",
            "justify_items": null,
            "grid_row": null,
            "max_height": null,
            "align_content": null,
            "visibility": null,
            "align_self": null,
            "height": null,
            "min_height": null,
            "padding": null,
            "grid_auto_rows": null,
            "grid_gap": null,
            "max_width": null,
            "order": null,
            "_view_module_version": "1.2.0",
            "grid_template_areas": null,
            "object_position": null,
            "object_fit": null,
            "grid_auto_columns": null,
            "margin": null,
            "display": null,
            "left": null
          }
        },
        "64ebb655cbdc4c7d8acacaeb6d8a62ae": {
          "model_module": "@jupyter-widgets/controls",
          "model_name": "ProgressStyleModel",
          "state": {
            "_view_name": "StyleView",
            "_model_name": "ProgressStyleModel",
            "description_width": "",
            "_view_module": "@jupyter-widgets/base",
            "_model_module_version": "1.5.0",
            "_view_count": null,
            "_view_module_version": "1.2.0",
            "bar_color": null,
            "_model_module": "@jupyter-widgets/controls"
          }
        },
        "c7219fc93f2142f89a0a572cd6ce1c99": {
          "model_module": "@jupyter-widgets/base",
          "model_name": "LayoutModel",
          "state": {
            "_view_name": "LayoutView",
            "grid_template_rows": null,
            "right": null,
            "justify_content": null,
            "_view_module": "@jupyter-widgets/base",
            "overflow": null,
            "_model_module_version": "1.2.0",
            "_view_count": null,
            "flex_flow": null,
            "width": null,
            "min_width": null,
            "border": null,
            "align_items": null,
            "bottom": null,
            "_model_module": "@jupyter-widgets/base",
            "top": null,
            "grid_column": null,
            "overflow_y": null,
            "overflow_x": null,
            "grid_auto_flow": null,
            "grid_area": null,
            "grid_template_columns": null,
            "flex": null,
            "_model_name": "LayoutModel",
            "justify_items": null,
            "grid_row": null,
            "max_height": null,
            "align_content": null,
            "visibility": null,
            "align_self": null,
            "height": null,
            "min_height": null,
            "padding": null,
            "grid_auto_rows": null,
            "grid_gap": null,
            "max_width": null,
            "order": null,
            "_view_module_version": "1.2.0",
            "grid_template_areas": null,
            "object_position": null,
            "object_fit": null,
            "grid_auto_columns": null,
            "margin": null,
            "display": null,
            "left": null
          }
        },
        "b5850005853943e1b9538eb9b1962ec5": {
          "model_module": "@jupyter-widgets/controls",
          "model_name": "DescriptionStyleModel",
          "state": {
            "_view_name": "StyleView",
            "_model_name": "DescriptionStyleModel",
            "description_width": "",
            "_view_module": "@jupyter-widgets/base",
            "_model_module_version": "1.5.0",
            "_view_count": null,
            "_view_module_version": "1.2.0",
            "_model_module": "@jupyter-widgets/controls"
          }
        },
        "3a1a1c1f2c544007ad22e0de1331de12": {
          "model_module": "@jupyter-widgets/base",
          "model_name": "LayoutModel",
          "state": {
            "_view_name": "LayoutView",
            "grid_template_rows": null,
            "right": null,
            "justify_content": null,
            "_view_module": "@jupyter-widgets/base",
            "overflow": null,
            "_model_module_version": "1.2.0",
            "_view_count": null,
            "flex_flow": null,
            "width": null,
            "min_width": null,
            "border": null,
            "align_items": null,
            "bottom": null,
            "_model_module": "@jupyter-widgets/base",
            "top": null,
            "grid_column": null,
            "overflow_y": null,
            "overflow_x": null,
            "grid_auto_flow": null,
            "grid_area": null,
            "grid_template_columns": null,
            "flex": null,
            "_model_name": "LayoutModel",
            "justify_items": null,
            "grid_row": null,
            "max_height": null,
            "align_content": null,
            "visibility": null,
            "align_self": null,
            "height": null,
            "min_height": null,
            "padding": null,
            "grid_auto_rows": null,
            "grid_gap": null,
            "max_width": null,
            "order": null,
            "_view_module_version": "1.2.0",
            "grid_template_areas": null,
            "object_position": null,
            "object_fit": null,
            "grid_auto_columns": null,
            "margin": null,
            "display": null,
            "left": null
          }
        }
      }
    },
    "accelerator": "GPU"
  },
  "cells": [
    {
      "cell_type": "markdown",
      "metadata": {
        "id": "view-in-github",
        "colab_type": "text"
      },
      "source": [
        "<a href=\"https://colab.research.google.com/github/rajan-blackboxes/natural-language-processing/blob/master/week3/week3-Embeddings.ipynb\" target=\"_parent\"><img src=\"https://colab.research.google.com/assets/colab-badge.svg\" alt=\"Open In Colab\"/></a>"
      ]
    },
    {
      "cell_type": "markdown",
      "metadata": {
        "id": "IJyhvg87Wb4v"
      },
      "source": [
        "# Find duplicate questions on StackOverflow by their embeddings\n",
        "\n",
        "In this assignment you will learn how to calculate a similarity for pieces of text. Using this approach you will know how to find duplicate questions from [StackOverflow](https://stackoverflow.com)."
      ]
    },
    {
      "cell_type": "markdown",
      "metadata": {
        "id": "P_5ctJyVWb4w"
      },
      "source": [
        "### Libraries\n",
        "\n",
        "In this task you will you will need the following libraries:\n",
        "- [StarSpace](https://github.com/facebookresearch/StarSpace) — a general-purpose model for efficient learning of entity embeddings from Facebook\n",
        "- [Gensim](https://radimrehurek.com/gensim/) — a tool for solving various NLP-related tasks (topic modeling, text representation, ...)\n",
        "- [Numpy](http://www.numpy.org) — a package for scientific computing.\n",
        "- [scikit-learn](http://scikit-learn.org/stable/index.html) — a tool for data mining and data analysis.\n",
        "- [Nltk](http://www.nltk.org) — a platform to work with human language data."
      ]
    },
    {
      "cell_type": "markdown",
      "metadata": {
        "id": "15VFJ51RWb4w"
      },
      "source": [
        "### Data\n",
        "\n",
        "The following cell will download all data required for this assignment into the folder `week3/data`."
      ]
    },
    {
      "cell_type": "code",
      "metadata": {
        "id": "g58CNAobWb4w",
        "colab": {
          "base_uri": "https://localhost:8080/",
          "height": 472,
          "referenced_widgets": [
            "f993ee6c5cf54088984ad79dfeea65e2",
            "1afc7449e43842a8b25aa0634e0812b0",
            "0ceab1672e2f4b18bac6df754076955f",
            "7ccf70d8c87e4efc9c5b8b3b38c81b5c",
            "6841566feda24be2b69fc1780e27b623",
            "831c97f9ec2a4889928bba2ca319e326",
            "d31f1765913e416fb159caae82ea88e2",
            "b52ef3d801a545389ec50cdfd78d0344",
            "261bbb4de1ce469c9fa786a318cbb458",
            "f425795ef33c429f94969edd465c4ca5",
            "46319df4863c482c891d7c62f19d4be2",
            "7b4d5f1aae3d4afe92b831353437154a",
            "ee189c95433e4520a3e8acc12a8e442b",
            "ae51419b8c9349dcb2a9b99ee7ce1625",
            "a530b52fda584a029a1dd3c1e574ea3c",
            "34d8acaa7098437cb179fea6b76ac106",
            "9677b3e6c74f41de977353a3f7fc72b0",
            "1695450a4a4a4f3a9fb7a6b1c0998c87",
            "6f06df36c9c94f7c8a8d53b8be3590da",
            "dd111fc08e3044438b45fffb702317ab",
            "912626d7600f4741a970dff8ac1f572c",
            "182d02c7519d45b6aa2af9ac744ec05f",
            "6ac363ecff4d4fa78d38300c77d07282",
            "91fd6e2c657e4fcda183b68a78326b6f",
            "f412157844114202b0b205c4595204cf",
            "0c654e4687054b778cba7b9cf64c6bbb",
            "5336fe70df8a4e63b69ccc591f94d60e",
            "beacfe0fb59249769fc26f365d6fcec6",
            "0a3c31a83470413fb4eb6ff2a480f22a",
            "cf779a2c47c64935abc0e712e1f676dc",
            "a4ac3883472b45d39676318c2b174661",
            "7742c8202daa4eee8ac966b9c8c9c970",
            "5541a1fab96341959fdafbc5ea071843",
            "064e8751f0604427b64e1822f75bd0a0",
            "09f685f9efd746069e4366df5d786af6",
            "4c114777c639493f8888e856f32e68d3",
            "922e06d6b075473f92496083ca3a2484",
            "304c87c88af5417faac67e8ea06b53df",
            "4f35f094915543408a99a8857392cf48",
            "5d5c4c068cd2437a92cbb6deea8730f9",
            "cadb811a59ab4c1fa781d90c6972a2ab",
            "bd7b991a698c47789866fc467f007415",
            "4a795b1328af41199c88904900ddf9a3",
            "905af4a0e32143f380eb9f236ae5efd4",
            "3f8e615409df40ea8fd39ed2ea674573",
            "3fc9585189434a07935d5fb0841c071e",
            "f2b1e45ec8334fd8a209acea406e5964",
            "1c2036e2c7a74b85afebfc0b5fd9f32b",
            "892e2ff740bb4a2b907cdc6ce19582ac",
            "09b6bbba1ef04c4ba721420031317322",
            "fce5c9bd0f8a4c1cabbaec4eac9505f3",
            "64ebb655cbdc4c7d8acacaeb6d8a62ae",
            "c7219fc93f2142f89a0a572cd6ce1c99",
            "b5850005853943e1b9538eb9b1962ec5",
            "3a1a1c1f2c544007ad22e0de1331de12"
          ]
        },
        "outputId": "be414d29-5c4c-48dc-8451-4e633eb6f32f"
      },
      "source": [
        "try:\n",
        "    import google.colab\n",
        "    IN_COLAB = True\n",
        "except:\n",
        "    IN_COLAB = False\n",
        "\n",
        "if IN_COLAB:\n",
        "    ! wget https://raw.githubusercontent.com/hse-aml/natural-language-processing/master/setup_google_colab.py -O setup_google_colab.py\n",
        "    import setup_google_colab\n",
        "    setup_google_colab.setup_week3()\n",
        "    \n",
        "import sys\n",
        "sys.path.append(\"..\")\n",
        "from common.download_utils import download_week3_resources\n",
        "\n",
        "download_week3_resources()"
      ],
      "execution_count": 1,
      "outputs": [
        {
          "output_type": "stream",
          "text": [
            "--2020-12-01 15:20:44--  https://raw.githubusercontent.com/hse-aml/natural-language-processing/master/setup_google_colab.py\n",
            "Resolving raw.githubusercontent.com (raw.githubusercontent.com)... 151.101.0.133, 151.101.64.133, 151.101.128.133, ...\n",
            "Connecting to raw.githubusercontent.com (raw.githubusercontent.com)|151.101.0.133|:443... connected.\n",
            "HTTP request sent, awaiting response... 200 OK\n",
            "Length: 1939 (1.9K) [text/plain]\n",
            "Saving to: ‘setup_google_colab.py’\n",
            "\n",
            "\rsetup_google_colab.   0%[                    ]       0  --.-KB/s               \rsetup_google_colab. 100%[===================>]   1.89K  --.-KB/s    in 0s      \n",
            "\n",
            "2020-12-01 15:20:44 (28.3 MB/s) - ‘setup_google_colab.py’ saved [1939/1939]\n",
            "\n"
          ],
          "name": "stdout"
        },
        {
          "output_type": "display_data",
          "data": {
            "application/vnd.jupyter.widget-view+json": {
              "model_id": "f993ee6c5cf54088984ad79dfeea65e2",
              "version_minor": 0,
              "version_major": 2
            },
            "text/plain": [
              "HBox(children=(HTML(value=''), FloatProgress(value=0.0, max=119127793.0), HTML(value='')))"
            ]
          },
          "metadata": {
            "tags": []
          }
        },
        {
          "output_type": "stream",
          "text": [
            "\n"
          ],
          "name": "stdout"
        },
        {
          "output_type": "display_data",
          "data": {
            "application/vnd.jupyter.widget-view+json": {
              "model_id": "7b4d5f1aae3d4afe92b831353437154a",
              "version_minor": 0,
              "version_major": 2
            },
            "text/plain": [
              "HBox(children=(HTML(value=''), FloatProgress(value=0.0, max=535543630.0), HTML(value='')))"
            ]
          },
          "metadata": {
            "tags": []
          }
        },
        {
          "output_type": "stream",
          "text": [
            "\n"
          ],
          "name": "stdout"
        },
        {
          "output_type": "display_data",
          "data": {
            "application/vnd.jupyter.widget-view+json": {
              "model_id": "6ac363ecff4d4fa78d38300c77d07282",
              "version_minor": 0,
              "version_major": 2
            },
            "text/plain": [
              "HBox(children=(HTML(value=''), FloatProgress(value=0.0, max=46408910.0), HTML(value='')))"
            ]
          },
          "metadata": {
            "tags": []
          }
        },
        {
          "output_type": "stream",
          "text": [
            "\n"
          ],
          "name": "stdout"
        },
        {
          "output_type": "display_data",
          "data": {
            "application/vnd.jupyter.widget-view+json": {
              "model_id": "064e8751f0604427b64e1822f75bd0a0",
              "version_minor": 0,
              "version_major": 2
            },
            "text/plain": [
              "HBox(children=(HTML(value=''), FloatProgress(value=0.0, max=5333.0), HTML(value='')))"
            ]
          },
          "metadata": {
            "tags": []
          }
        },
        {
          "output_type": "stream",
          "text": [
            "\n",
            "Downloading GoogleNews-vectors-negative300.bin.gz (1.5G) for you, it will take a while...\n"
          ],
          "name": "stdout"
        },
        {
          "output_type": "display_data",
          "data": {
            "application/vnd.jupyter.widget-view+json": {
              "model_id": "3f8e615409df40ea8fd39ed2ea674573",
              "version_minor": 0,
              "version_major": 2
            },
            "text/plain": [
              "HBox(children=(HTML(value=''), FloatProgress(value=0.0, max=1647046227.0), HTML(value='')))"
            ]
          },
          "metadata": {
            "tags": []
          }
        },
        {
          "output_type": "stream",
          "text": [
            "\n"
          ],
          "name": "stdout"
        }
      ]
    },
    {
      "cell_type": "markdown",
      "metadata": {
        "id": "S-Go3uGEWb4x"
      },
      "source": [
        "### Grading\n",
        "We will create a grader instace below and use it to collect your answers. Note that these outputs will be stored locally inside grader and will be uploaded to platform only after running submiting function in the last part of this assignment. If you want to make partial submission, you can run that cell any time you want."
      ]
    },
    {
      "cell_type": "code",
      "metadata": {
        "id": "JYP9UsW_Wb4x"
      },
      "source": [
        "from grader import Grader\n",
        "import numpy as np"
      ],
      "execution_count": 2,
      "outputs": []
    },
    {
      "cell_type": "code",
      "metadata": {
        "id": "y7nx1DqHWb4x"
      },
      "source": [
        "grader = Grader()"
      ],
      "execution_count": 3,
      "outputs": []
    },
    {
      "cell_type": "markdown",
      "metadata": {
        "id": "zoq6zUDjWb4x"
      },
      "source": [
        "## Word embedding\n",
        "\n",
        "To solve the problem, you will use two different models of embeddings:\n",
        "\n",
        " - [Pre-trained word vectors](https://code.google.com/archive/p/word2vec/) from Google which were trained on a part of Google News dataset (about 100 billion words). The model contains 300-dimensional vectors for 3 million words and phrases. `GoogleNews-vectors-negative300.bin.gz` will be downloaded in `download_week3_resources()`.\n",
        " - Representations using StarSpace on StackOverflow data sample. You will need to train them from scratch."
      ]
    },
    {
      "cell_type": "markdown",
      "metadata": {
        "id": "tzimaWuJWb4x"
      },
      "source": [
        "It's always easier to start with pre-trained embeddings. Unpack the pre-trained Goggle's vectors and upload them using the function [KeyedVectors.load_word2vec_format](https://radimrehurek.com/gensim/models/keyedvectors.html) from gensim library with the parameter *binary=True*. If the size of the embeddings is larger than the avaliable memory, you could load only a part of the embeddings by defining the parameter *limit* (recommended: 500000)."
      ]
    },
    {
      "cell_type": "code",
      "metadata": {
        "id": "8U7WLcy4Wb4x"
      },
      "source": [
        "import gensim"
      ],
      "execution_count": 4,
      "outputs": []
    },
    {
      "cell_type": "code",
      "metadata": {
        "id": "8OY5vumFWb4y"
      },
      "source": [
        "wv_embeddings = gensim.models.KeyedVectors.load_word2vec_format('GoogleNews-vectors-negative300.bin.gz', binary=True, limit=500000)"
      ],
      "execution_count": 5,
      "outputs": []
    },
    {
      "cell_type": "markdown",
      "metadata": {
        "id": "9ZMyYdY1Wb4y"
      },
      "source": [
        "### How to work with Google's word2vec embeddings?\n",
        "\n",
        "Once you have loaded the representations, make sure you can access them. First, you can check if the loaded embeddings contain a word:\n",
        "    \n",
        "    'word' in wv_embeddings\n",
        "    \n",
        "Second, to get the corresponding embedding you can use the square brackets:\n",
        "\n",
        "    wv_embeddings['word']\n",
        " \n",
        "### Checking that the embeddings are correct \n",
        " \n",
        "To prevent any errors during the first stage, we can check that the loaded embeddings are correct. You can call the function *check_embeddings*, implemented below, which runs 3 tests:\n",
        "1. Find the most similar word for provided \"positive\" and \"negative\" words.\n",
        "2. Find which word from the given list doesn’t go with the others.\n",
        "3. Find the most similar word for the provided one.\n",
        "\n",
        "In the right case the function will return the string *These embeddings look good*. Othervise, you need to validate the previous steps."
      ]
    },
    {
      "cell_type": "code",
      "metadata": {
        "id": "SYU-lyPcWb4y"
      },
      "source": [
        "def check_embeddings(embeddings):\n",
        "    error_text = \"Something wrong with your embeddings ('%s test isn't correct).\"\n",
        "    most_similar = embeddings.most_similar(positive=['woman', 'king'], negative=['man'])\n",
        "    if len(most_similar) < 1 or most_similar[0][0] != 'queen':\n",
        "        return error_text % \"Most similar\"\n",
        "\n",
        "    doesnt_match = embeddings.doesnt_match(['breakfast', 'cereal', 'dinner', 'lunch'])\n",
        "    if doesnt_match != 'cereal':\n",
        "        return error_text % \"Doesn't match\"\n",
        "    \n",
        "    most_similar_to_given = embeddings.most_similar_to_given('music', ['water', 'sound', 'backpack', 'mouse'])\n",
        "    if most_similar_to_given != 'sound':\n",
        "        return error_text % \"Most similar to given\"\n",
        "    \n",
        "    return \"These embeddings look good.\""
      ],
      "execution_count": 6,
      "outputs": []
    },
    {
      "cell_type": "code",
      "metadata": {
        "id": "J4UpragRWb4y",
        "colab": {
          "base_uri": "https://localhost:8080/"
        },
        "outputId": "7bf4da70-c1db-437f-f14a-ddf518cd5831"
      },
      "source": [
        "print(check_embeddings(wv_embeddings))"
      ],
      "execution_count": 7,
      "outputs": [
        {
          "output_type": "stream",
          "text": [
            "These embeddings look good.\n"
          ],
          "name": "stdout"
        },
        {
          "output_type": "stream",
          "text": [
            "/usr/local/lib/python3.6/dist-packages/gensim/models/keyedvectors.py:877: FutureWarning: arrays to stack must be passed as a \"sequence\" type such as list or tuple. Support for non-sequence iterables such as generators is deprecated as of NumPy 1.16 and will raise an error in the future.\n",
            "  vectors = vstack(self.word_vec(word, use_norm=True) for word in used_words).astype(REAL)\n"
          ],
          "name": "stderr"
        }
      ]
    },
    {
      "cell_type": "markdown",
      "metadata": {
        "id": "1wTrmboYWb4y"
      },
      "source": [
        "## From word to text embeddings\n",
        "\n",
        "**Task 1 (Question2Vec).** Usually, we have word-based embeddings, but for the task we need to create a representation for the whole question. It could be done in different ways. In our case we will use a **mean** of all word vectors in the question. Now you need to implement the function *question_to_vec*, which calculates the question representation described above. This function should work with the input text as is without any preprocessing.\n",
        "\n",
        "Note that there could be words without the corresponding embeddings. In this case, you can just skip these words and don't take them into account during calculating the result. If the question doesn't contain any known word with embedding, the function should return a zero vector."
      ]
    },
    {
      "cell_type": "code",
      "metadata": {
        "id": "Zu-PLwKbWb4y"
      },
      "source": [
        "def question_to_vec(question, embeddings, dim=300):\n",
        "    \"\"\"\n",
        "        question: a string\n",
        "        embeddings: dict where the key is a word and a value is its' embedding\n",
        "        dim: size of the representation\n",
        "\n",
        "        result: vector representation for the question\n",
        "    \"\"\"\n",
        "    vecs = np.zeros((dim,))\n",
        "    if question != '':\n",
        "      question_clean = [word for word in question.split(' ') if word in embeddings.vocab.keys()]\n",
        "      if question_clean != []:\n",
        "        for word in question_clean:\n",
        "          vecs += embeddings[word][:dim]\n",
        "        vecs = vecs / len(question_clean)\n",
        "    return vecs"
      ],
      "execution_count": 56,
      "outputs": []
    },
    {
      "cell_type": "markdown",
      "metadata": {
        "id": "O4U5YKbzWb4z"
      },
      "source": [
        "To check the basic correctness of your implementation, run the function *question_to_vec_tests*."
      ]
    },
    {
      "cell_type": "code",
      "metadata": {
        "id": "iWfJpIc7Wb4z"
      },
      "source": [
        "def question_to_vec_tests():\n",
        "    if (np.zeros(300) != question_to_vec('', wv_embeddings)).any():\n",
        "        return \"You need to return zero vector for empty question.\"\n",
        "    if (np.zeros(300) != question_to_vec('thereisnosuchword', wv_embeddings)).any():\n",
        "        return \"You need to return zero vector for the question, which consists only unknown words.\"\n",
        "    if (wv_embeddings['word'] != question_to_vec('word', wv_embeddings)).any():\n",
        "        return \"You need to check the corectness of your function.\"\n",
        "    if ((wv_embeddings['I'] + wv_embeddings['am']) / 2 != question_to_vec('I am', wv_embeddings)).any():\n",
        "        return \"Your function should calculate a mean of word vectors.\"\n",
        "    if (wv_embeddings['word'] != question_to_vec('thereisnosuchword word', wv_embeddings)).any():\n",
        "        return \"You should not consider words which embeddings are unknown.\"\n",
        "    return \"Basic tests are passed.\""
      ],
      "execution_count": 57,
      "outputs": []
    },
    {
      "cell_type": "code",
      "metadata": {
        "id": "s067A9h0Wb4z",
        "colab": {
          "base_uri": "https://localhost:8080/"
        },
        "outputId": "a5b203db-2870-4c13-e1e1-bbc8efbfdc42"
      },
      "source": [
        "print(question_to_vec_tests())"
      ],
      "execution_count": 58,
      "outputs": [
        {
          "output_type": "stream",
          "text": [
            "Basic tests are passed.\n"
          ],
          "name": "stdout"
        }
      ]
    },
    {
      "cell_type": "markdown",
      "metadata": {
        "id": "v5_SVfBRWb4z"
      },
      "source": [
        "You can submit embeddings for the questions from the file *test_embeddings.tsv* to earn the points. In this task you don't need to transform the text of a question somehow."
      ]
    },
    {
      "cell_type": "code",
      "metadata": {
        "id": "K4Gw8qddWb4z",
        "colab": {
          "base_uri": "https://localhost:8080/"
        },
        "outputId": "1b82ec93-8e7b-4566-b02f-9ee2741cd2c4"
      },
      "source": [
        "import nltk\n",
        "nltk.download('stopwords')\n",
        "from util import array_to_string"
      ],
      "execution_count": 11,
      "outputs": [
        {
          "output_type": "stream",
          "text": [
            "[nltk_data] Downloading package stopwords to /root/nltk_data...\n",
            "[nltk_data]   Unzipping corpora/stopwords.zip.\n"
          ],
          "name": "stderr"
        }
      ]
    },
    {
      "cell_type": "code",
      "metadata": {
        "id": "SMBum2PrWb4z",
        "colab": {
          "base_uri": "https://localhost:8080/"
        },
        "outputId": "c10c4c11-5301-4ac6-b462-ffaefebf2b66"
      },
      "source": [
        "question2vec_result = []\n",
        "for question in open('data/test_embeddings.tsv'):\n",
        "    question = question.strip()\n",
        "    answer = question_to_vec(question, wv_embeddings)\n",
        "    question2vec_result = np.append(question2vec_result, answer)\n",
        "\n",
        "grader.submit_tag('Question2Vec', array_to_string(question2vec_result))"
      ],
      "execution_count": 12,
      "outputs": [
        {
          "output_type": "stream",
          "text": [
            "Current answer for task Question2Vec is: 0.019293891059027776\n",
            "-0.028727213541666668\n",
            "0.046056111653645836\n",
            "0.08525933159722222\n",
            "0.02430555555555...\n"
          ],
          "name": "stdout"
        }
      ]
    },
    {
      "cell_type": "markdown",
      "metadata": {
        "id": "yKXXUWzLWb4z"
      },
      "source": [
        "Now we have a method to create a representation of any sentence and we are ready for the first evaluation. So, let's check how well our solution (Google's vectors + *question_to_vec*) will work.\n",
        "\n",
        "## Evaluation of text similarity\n",
        "\n",
        "We can imagine that if we use good embeddings, the cosine similarity between the duplicate sentences should be less than for the random ones. Overall, for each pair of duplicate sentences we can generate *R* random negative examples and find out the position of the correct duplicate.  \n",
        "\n",
        "For example, we have the question *\"Exceptions What really happens\"* and we are sure that another question *\"How does the catch keyword determine the type of exception that was thrown\"* is a duplicate. But our model doesn't know it and tries to find out the best option also among questions like *\"How Can I Make These Links Rotate in PHP\"*, *\"NSLog array description not memory address\"* and *\"PECL_HTTP not recognised php ubuntu\"*. The goal of the model is to rank all these 4 questions (1 *positive* and *R* = 3 *negative*) in the way that the correct one is in the first place.\n",
        "\n",
        "However, it is unnatural to count on that the best candidate will be always in the first place. So let us consider the place of the best candidate in the sorted list of candidates and formulate a metric based on it. We can fix some *K* — a reasonalble number of top-ranked elements and *N* — a number of queries (size of the sample).\n",
        "\n",
        "### Hits@K\n",
        "\n",
        "The first simple metric will be a number of correct hits for some *K*:\n",
        "$$ \\text{Hits@K} = \\frac{1}{N}\\sum_{i=1}^N \\, [dup_i \\in topK(q_i)]$$\n",
        "\n",
        "where $q_i$ is the i-th query, $dup_i$ is its duplicate, $topK(q_i)$ is the top K elements of the ranked sentences provided by our model and the operation $[dup_i \\in topK(q_i)]$ equals 1 if the condition is true and 0 otherwise (more details about this operation could be found [here](https://en.wikipedia.org/wiki/Iverson_bracket)).\n",
        "\n",
        "\n",
        "### DCG@K\n",
        "The second one is a simplified [DCG metric](https://en.wikipedia.org/wiki/Discounted_cumulative_gain):\n",
        "\n",
        "$$ \\text{DCG@K} = \\frac{1}{N} \\sum_{i=1}^N\\frac{1}{\\log_2(1+rank_{dup_i})}\\cdot[rank_{dup_i} \\le K] $$\n",
        "\n",
        "where $rank_{dup_i}$ is a position of the duplicate in the sorted list of the nearest sentences for the query $q_i$. According to this metric, the model gets a higher reward for a higher position of the correct answer. If the answer does not appear in topK at all, the reward is zero. "
      ]
    },
    {
      "cell_type": "markdown",
      "metadata": {
        "id": "U-zymaMpWb4z"
      },
      "source": [
        "### Evaluation examples\n",
        "\n",
        "Let's calculate the described metrics for the toy example introduced above. In this case $N$ = 1 and the correct candidate for $q_1$ is *\"How does the catch keyword determine the type of exception that was thrown\"*. Consider the following ranking of the candidates:\n",
        "1. *\"How Can I Make These Links Rotate in PHP\"*\n",
        "2. *\"How does the catch keyword determine the type of exception that was thrown\"*\n",
        "3. *\"NSLog array description not memory address\"*\n",
        "4. *\"PECL_HTTP not recognised php ubuntu\"*\n",
        "\n",
        "Using the ranking above, calculate *Hits@K* metric for *K = 1, 2, 4*: \n",
        " \n",
        "- [K = 1] $\\text{Hits@1} = \\frac{1}{1}\\sum_{i=1}^1 \\, [dup_i \\in top1(q_i)] = [dup_1 \\in top1(q_1)] = 0$ because the correct answer doesn't appear in the *top1* list.\n",
        "- [K = 2] $\\text{Hits@2} = \\frac{1}{1}\\sum_{i=1}^1 \\, [dup_i \\in top2(q_i)] = [dup_1 \\in top2(q_1)] = 1$ because $rank_{dup_1} = 2$.\n",
        "- [K = 4] $\\text{Hits@4} = \\frac{1}{1}\\sum_{i=1}^1 \\, [dup_i \\in top4(q_i)] = [dup_1 \\in top4(q_1)] = 1$\n",
        "\n",
        "Using the ranking above, calculate *DCG@K* metric for *K = 1, 2, 4*:\n",
        "\n",
        "- [K = 1] $\\text{DCG@1} = \\frac{1}{1} \\sum_{i=1}^1\\frac{1}{\\log_2(1+rank_{dup_i})}\\cdot[rank_{dup_i} \\le 1] = \\frac{1}{\\log_2(1+rank_{dup_i})}\\cdot[rank_{dup_i} \\le 1] = 0$ because the correct answer doesn't appear in the top1 list.\n",
        "- [K = 2] $\\text{DCG@2} = \\frac{1}{1} \\sum_{i=1}^1\\frac{1}{\\log_2(1+rank_{dup_i})}\\cdot[rank_{dup_i} \\le 2] = \\frac{1}{\\log_2{3}}$, because $rank_{dup_1} = 2$.\n",
        "- [K = 4] $\\text{DCG@4} = \\frac{1}{1} \\sum_{i=1}^1\\frac{1}{\\log_2(1+rank_{dup_i})}\\cdot[rank_{dup_i} \\le 4] = \\frac{1}{\\log_2{3}}$.\n"
      ]
    },
    {
      "cell_type": "markdown",
      "metadata": {
        "id": "tWQDrbz3Wb4z"
      },
      "source": [
        "**Tasks 2 and 3 (HitsCount and DCGScore).** Implement the functions *hits_count* and *dcg_score* as described above. Each function has two arguments: *dup_ranks* and *k*. *dup_ranks* is a list which contains *values of ranks* of duplicates. For example, *dup_ranks* is *[2]* for the example provided above."
      ]
    },
    {
      "cell_type": "code",
      "metadata": {
        "id": "yMp05y4KWb40"
      },
      "source": [
        "def hits_count(dup_ranks, k):\n",
        "    \"\"\"\n",
        "        dup_ranks: list of duplicates' ranks; one rank per question; \n",
        "                   length is a number of questions which we are looking for duplicates; \n",
        "                   rank is a number from 1 to len(candidTates of the question); \n",
        "                   e.g. [2, 3] means that the first duplicate has the rank 2, the second one — 3.\n",
        "        k: number of top-ranked elements (k in Hits@k metric)\n",
        "\n",
        "        result: return Hits@k value for current ranking\n",
        "    \"\"\"\n",
        "    ranks = []\n",
        "    for r in dup_ranks:\n",
        "      if r <= k:\n",
        "        ranks.append(1)\n",
        "      else:\n",
        "        ranks.append(0)\n",
        "    return np.array(ranks).mean()"
      ],
      "execution_count": 13,
      "outputs": []
    },
    {
      "cell_type": "markdown",
      "metadata": {
        "id": "_23fMPA-Wb40"
      },
      "source": [
        "Test your code on the tiny examples:"
      ]
    },
    {
      "cell_type": "code",
      "metadata": {
        "id": "gzNgkwyeWb40"
      },
      "source": [
        "def test_hits():\n",
        "    # *Evaluation example*\n",
        "    # answers — dup_i\n",
        "    answers = [\"How does the catch keyword determine the type of exception that was thrown\"]\n",
        "    \n",
        "    # candidates_ranking — the ranked sentences provided by our model\n",
        "    candidates_ranking = [[\"How Can I Make These Links Rotate in PHP\", \n",
        "                           \"How does the catch keyword determine the type of exception that was thrown\",\n",
        "                           \"NSLog array description not memory address\",\n",
        "                           \"PECL_HTTP not recognised php ubuntu\"]]\n",
        "    # dup_ranks — position of the dup_i in the list of ranks +1\n",
        "    dup_ranks = [candidates_ranking[i].index(answers[i]) + 1 for i in range(len(answers))]\n",
        "    \n",
        "    # correct_answers — the expected values of the result for each k from 1 to 4\n",
        "    correct_answers = [0, 1, 1, 1]\n",
        "    for k, correct in enumerate(correct_answers, 1):\n",
        "        if not np.isclose(hits_count(dup_ranks, k), correct):\n",
        "            return \"Check the function.\"\n",
        "    \n",
        "    # Other tests\n",
        "    answers = [\"How does the catch keyword determine the type of exception that was thrown\", \n",
        "               \"Convert Google results object (pure js) to Python object\"]\n",
        "    \n",
        "    # The first test: both duplicates on the first position in ranked list\n",
        "    candidates_ranking = [[\"How does the catch keyword determine the type of exception that was thrown\",\n",
        "                           \"How Can I Make These Links Rotate in PHP\"], \n",
        "                          [\"Convert Google results object (pure js) to Python object\",\n",
        "                           \"WPF- How to update the changes in list item of a list\"]]\n",
        "    dup_ranks = [candidates_ranking[i].index(answers[i]) + 1 for i in range(len(answers))]\n",
        "    correct_answers = [1, 1]\n",
        "    for k, correct in enumerate(correct_answers, 1):\n",
        "        if not np.isclose(hits_count(dup_ranks, k), correct):\n",
        "            return \"Check the function (test: both duplicates on the first position in ranked list).\"\n",
        "        \n",
        "    # The second test: one candidate on the first position, another — on the second\n",
        "    candidates_ranking = [[\"How Can I Make These Links Rotate in PHP\", \n",
        "                           \"How does the catch keyword determine the type of exception that was thrown\"], \n",
        "                          [\"Convert Google results object (pure js) to Python object\",\n",
        "                           \"WPF- How to update the changes in list item of a list\"]]\n",
        "    dup_ranks = [candidates_ranking[i].index(answers[i]) + 1 for i in range(len(answers))]\n",
        "    correct_answers = [0.5, 1]\n",
        "    for k, correct in enumerate(correct_answers, 1):\n",
        "        if not np.isclose(hits_count(dup_ranks, k), correct):\n",
        "            return \"Check the function (test: one candidate on the first position, another — on the second).\"\n",
        "\n",
        "    # The third test: both candidates on the second position\n",
        "    candidates_ranking = [[\"How Can I Make These Links Rotate in PHP\", \n",
        "                           \"How does the catch keyword determine the type of exception that was thrown\"], \n",
        "                          [\"WPF- How to update the changes in list item of a list\",\n",
        "                           \"Convert Google results object (pure js) to Python object\"]]\n",
        "    dup_ranks = [candidates_ranking[i].index(answers[i]) + 1 for i in range(len(answers))]\n",
        "    correct_answers = [0, 1]\n",
        "    for k, correct in enumerate(correct_answers, 1):\n",
        "        if not np.isclose(hits_count(dup_ranks, k), correct):\n",
        "            return \"Check the function (test: both candidates on the second position).\"\n",
        "\n",
        "    return \"Basic test are passed.\""
      ],
      "execution_count": 14,
      "outputs": []
    },
    {
      "cell_type": "code",
      "metadata": {
        "colab": {
          "base_uri": "https://localhost:8080/",
          "height": 35
        },
        "id": "UZCdbpNw6dTY",
        "outputId": "2c6bf520-7c3b-4661-d982-3602c0e50a6e"
      },
      "source": [
        "test_hits()"
      ],
      "execution_count": 15,
      "outputs": [
        {
          "output_type": "execute_result",
          "data": {
            "application/vnd.google.colaboratory.intrinsic+json": {
              "type": "string"
            },
            "text/plain": [
              "'Basic test are passed.'"
            ]
          },
          "metadata": {
            "tags": []
          },
          "execution_count": 15
        }
      ]
    },
    {
      "cell_type": "code",
      "metadata": {
        "id": "HPlM2n0iWb40"
      },
      "source": [
        "import math\n",
        "def dcg_score(dup_ranks, k):\n",
        "    \"\"\"\n",
        "        dup_ranks: list of duplicates' ranks; one rank per question; \n",
        "                   length is a number of questions which we are looking for duplicates; \n",
        "                   rank is a number from 1 to len(candidates of the question); \n",
        "                   e.g. [2, 3] means that the first duplicate has the rank 2, the second one — 3.\n",
        "        k: number of top-ranked elements (k in DCG@k metric)\n",
        "        result: return DCG@k value for current ranking\n",
        "    \"\"\"\n",
        "    n = len(dup_ranks)\n",
        "    elems = []\n",
        "    for i in range(n):\n",
        "      r = dup_ranks[i]\n",
        "      if r <= k:\n",
        "        elems.append(1/math.log(r + 1, 2))\n",
        "      else:\n",
        "        elems.append(0)\n",
        "        \n",
        "    return np.sum(elems)/n\n"
      ],
      "execution_count": 16,
      "outputs": []
    },
    {
      "cell_type": "code",
      "metadata": {
        "id": "FlgutpSZWb40"
      },
      "source": [
        "def test_dcg():\n",
        "    # *Evaluation example*\n",
        "    # answers — dup_i\n",
        "    answers = [\"How does the catch keyword determine the type of exception that was thrown\"]\n",
        "    \n",
        "    # candidates_ranking — the ranked sentences provided by our model\n",
        "    candidates_ranking = [[\"How Can I Make These Links Rotate in PHP\", \n",
        "                           \"How does the catch keyword determine the type of exception that was thrown\",\n",
        "                           \"NSLog array description not memory address\",\n",
        "                           \"PECL_HTTP not recognised php ubuntu\"]]\n",
        "    # dup_ranks — position of the dup_i in the list of ranks +1\n",
        "    dup_ranks = [candidates_ranking[i].index(answers[i]) + 1 for i in range(len(answers))]\n",
        "    \n",
        "    # correct_answers — the expected values of the result for each k from 1 to 4\n",
        "    correct_answers = [0, 1 / (np.log2(3)), 1 / (np.log2(3)), 1 / (np.log2(3))]\n",
        "    for k, correct in enumerate(correct_answers, 1):\n",
        "        if not np.isclose(dcg_score(dup_ranks, k), correct):\n",
        "            return \"Check the function.\"\n",
        "    \n",
        "    # Other tests\n",
        "    answers = [\"How does the catch keyword determine the type of exception that was thrown\", \n",
        "               \"Convert Google results object (pure js) to Python object\"]\n",
        "\n",
        "    # The first test: both duplicates on the first position in ranked list\n",
        "    candidates_ranking = [[\"How does the catch keyword determine the type of exception that was thrown\",\n",
        "                           \"How Can I Make These Links Rotate in PHP\"], \n",
        "                          [\"Convert Google results object (pure js) to Python object\",\n",
        "                           \"WPF- How to update the changes in list item of a list\"]]\n",
        "    dup_ranks = [candidates_ranking[i].index(answers[i]) + 1 for i in range(len(answers))]\n",
        "    correct_answers = [1, 1]\n",
        "    for k, correct in enumerate(correct_answers, 1):\n",
        "        if not np.isclose(dcg_score(dup_ranks, k), correct):\n",
        "            return \"Check the function (test: both duplicates on the first position in ranked list).\"\n",
        "        \n",
        "    # The second test: one candidate on the first position, another — on the second\n",
        "    candidates_ranking = [[\"How Can I Make These Links Rotate in PHP\", \n",
        "                           \"How does the catch keyword determine the type of exception that was thrown\"], \n",
        "                          [\"Convert Google results object (pure js) to Python object\",\n",
        "                           \"WPF- How to update the changes in list item of a list\"]]\n",
        "    dup_ranks = [candidates_ranking[i].index(answers[i]) + 1 for i in range(len(answers))]\n",
        "    correct_answers = [0.5, (1 + (1 / (np.log2(3)))) / 2]\n",
        "    for k, correct in enumerate(correct_answers, 1):\n",
        "        if not np.isclose(dcg_score(dup_ranks, k), correct):\n",
        "            return \"Check the function (test: one candidate on the first position, another — on the second).\"\n",
        "        \n",
        "    # The third test: both candidates on the second position\n",
        "    candidates_ranking = [[\"How Can I Make These Links Rotate in PHP\",\n",
        "                           \"How does the catch keyword determine the type of exception that was thrown\"], \n",
        "                          [\"WPF- How to update the changes in list item of a list\",\n",
        "                           \"Convert Google results object (pure js) to Python object\"]]\n",
        "    dup_ranks = [candidates_ranking[i].index(answers[i]) + 1 for i in range(len(answers))]\n",
        "    correct_answers = [0, 1 / (np.log2(3))]\n",
        "    for k, correct in enumerate(correct_answers, 1):\n",
        "        if not np.isclose(dcg_score(dup_ranks, k), correct):\n",
        "            return \"Check the function (test: both candidates on the second position).\"\n",
        "\n",
        "    return \"Basic test are passed.\""
      ],
      "execution_count": 17,
      "outputs": []
    },
    {
      "cell_type": "code",
      "metadata": {
        "id": "Csx7ProCWb40",
        "colab": {
          "base_uri": "https://localhost:8080/"
        },
        "outputId": "f46fb828-1f3f-4513-f722-fb0276bafdfe"
      },
      "source": [
        "print(test_dcg())"
      ],
      "execution_count": 18,
      "outputs": [
        {
          "output_type": "stream",
          "text": [
            "Basic test are passed.\n"
          ],
          "name": "stdout"
        }
      ]
    },
    {
      "cell_type": "markdown",
      "metadata": {
        "id": "UhiyX6-6Wb40"
      },
      "source": [
        "Submit results of the functions *hits_count* and *dcg_score* for the following examples to earn the points."
      ]
    },
    {
      "cell_type": "code",
      "metadata": {
        "id": "-TGdAQ9RWb40"
      },
      "source": [
        "test_examples = [\n",
        "    [1],\n",
        "    [1, 2],\n",
        "    [2, 1],\n",
        "    [1, 2, 3],\n",
        "    [1, 2, 3, 4, 5, 6, 7, 8, 9, 10],\n",
        "    [9, 5, 4, 2, 8, 10, 7, 6, 1, 3],\n",
        "    [4, 3, 5, 1, 9, 10, 7, 8, 2, 6],\n",
        "    [5, 1, 7, 6, 2, 3, 8, 9, 10, 4],\n",
        "    [6, 3, 1, 4, 7, 2, 9, 8, 10, 5],\n",
        "    [10, 9, 8, 7, 6, 5, 4, 3, 2, 1],\n",
        "]"
      ],
      "execution_count": 19,
      "outputs": []
    },
    {
      "cell_type": "code",
      "metadata": {
        "id": "PEPx0v-bWb40",
        "colab": {
          "base_uri": "https://localhost:8080/"
        },
        "outputId": "081e1d5d-677b-4691-c4b2-bf3628b2e868"
      },
      "source": [
        "hits_results = []\n",
        "for example in test_examples:\n",
        "    for k in range(len(example)):\n",
        "        hits_results.append(hits_count(example, k + 1))\n",
        "grader.submit_tag('HitsCount', array_to_string(hits_results))"
      ],
      "execution_count": 20,
      "outputs": [
        {
          "output_type": "stream",
          "text": [
            "Current answer for task HitsCount is: 1.0\n",
            "0.5\n",
            "1.0\n",
            "0.5\n",
            "1.0\n",
            "0.3333333333333333\n",
            "0.6666666666666666\n",
            "1.0\n",
            "0.1\n",
            "0.2\n",
            "0.3\n",
            "0.4\n",
            "0.5\n",
            "0.6\n",
            "0.7\n",
            "0.8\n",
            "0.9\n",
            "1....\n"
          ],
          "name": "stdout"
        }
      ]
    },
    {
      "cell_type": "code",
      "metadata": {
        "id": "xylSLZu0Wb40",
        "colab": {
          "base_uri": "https://localhost:8080/"
        },
        "outputId": "a000d9b9-0083-4b6f-e5cf-5c6de3f6b2c0"
      },
      "source": [
        "dcg_results = []\n",
        "for example in test_examples:\n",
        "    for k in range(len(example)):\n",
        "        dcg_results.append(dcg_score(example, k + 1))\n",
        "grader.submit_tag('DCGScore', array_to_string(dcg_results))"
      ],
      "execution_count": 21,
      "outputs": [
        {
          "output_type": "stream",
          "text": [
            "Current answer for task DCGScore is: 1.0\n",
            "0.5\n",
            "0.8154648767857287\n",
            "0.5\n",
            "0.8154648767857287\n",
            "0.3333333333333333\n",
            "0.5436432511904857\n",
            "0.7103099178...\n"
          ],
          "name": "stdout"
        }
      ]
    },
    {
      "cell_type": "markdown",
      "metadata": {
        "id": "CPQSUKWSWb40"
      },
      "source": [
        "##  First solution: pre-trained embeddings"
      ]
    },
    {
      "cell_type": "markdown",
      "metadata": {
        "id": "aL5lVO1BWb41"
      },
      "source": [
        "We will work with predefined train, validation and test corpora. All the files are tab-separated, but have a different format:\n",
        " - *train* corpus contains similar sentences at the same row.\n",
        " - *validation* corpus contains the following columns: *question*, *similar question*, *negative example 1*, *negative example 2*, ... \n",
        " - *test* corpus contains the following columns: *question*, *example 1*, *example 2*, ...\n",
        "\n",
        "Validation corpus will be used for the intermediate validation of models. The test data will be necessary for submitting the quality of your model in the system."
      ]
    },
    {
      "cell_type": "markdown",
      "metadata": {
        "id": "_N-jtTTJWb41"
      },
      "source": [
        "Now you should read *validation* corpus, located at `data/validation.tsv`. You will use it later to evaluate current solution."
      ]
    },
    {
      "cell_type": "code",
      "metadata": {
        "id": "L2HYIYK5Wb41"
      },
      "source": [
        "def read_corpus(filename):\n",
        "    data = []\n",
        "    for line in open(filename, encoding='utf-8'):\n",
        "        data.append(line.strip().split('\\t'))\n",
        "    return data"
      ],
      "execution_count": 22,
      "outputs": []
    },
    {
      "cell_type": "code",
      "metadata": {
        "id": "ZggWXuWjWb41"
      },
      "source": [
        "validation = read_corpus('data/validation.tsv')"
      ],
      "execution_count": 23,
      "outputs": []
    },
    {
      "cell_type": "code",
      "metadata": {
        "id": "CKgimQhqWb41"
      },
      "source": [
        "from sklearn.metrics.pairwise import cosine_similarity"
      ],
      "execution_count": 24,
      "outputs": []
    },
    {
      "cell_type": "markdown",
      "metadata": {
        "id": "qX6T7281Wb41"
      },
      "source": [
        "We will use cosine distance to rank candidate questions which you need to implement in the function *rank_candidates*. The function should return a sorted list of pairs *(initial position in candidates list, candidate)*. Index of some pair corresponds to its rank (the first is the best). For example, if the list of candidates was *[a, b, c]* and the most similar is *c*, then *a* and *b*, the function should return a list *[(2, c), (0, a), (1, b)]*.\n",
        "\n",
        "Pay attention, if you use the function *cosine_similarity* from *sklearn.metrics.pairwise* to calculate similarity because it works in a different way: most similar objects has greatest similarity. It's preferable to use a vectorized version of *cosine_similarity* function. Try to compute similarity at once and not use list comprehension. It should speed up your computations significantly."
      ]
    },
    {
      "cell_type": "code",
      "metadata": {
        "id": "HZ5LmJceWb41"
      },
      "source": [
        "def rank_candidates(question, candidates, embeddings, dim=300):\n",
        "    \"\"\"\n",
        "        question: a string\n",
        "        candidates: a list of strings (candidates) which we want to rank\n",
        "        embeddings: some embeddings\n",
        "        dim: dimension of the current embeddings\n",
        "        \n",
        "        result: a list of pairs (initial position in the list, question)\n",
        "    \"\"\"\n",
        "    question_vec = np.array(question_to_vec(question, embeddings, dim)).reshape(1,-1)\n",
        "    candidates_vec = [question_to_vec(v, embeddings, dim)  for v in candidates]\n",
        "    similarity_ranks = cosine_similarity(question_vec.reshape(1,-1), candidates_vec)\n",
        "    return [(i, candidates[i]) for i in np.argsort(similarity_ranks.ravel())[::-1]]\n"
      ],
      "execution_count": 25,
      "outputs": []
    },
    {
      "cell_type": "markdown",
      "metadata": {
        "id": "yLPeR6NEWb41"
      },
      "source": [
        "Test your code on the tiny examples:"
      ]
    },
    {
      "cell_type": "code",
      "metadata": {
        "id": "47Wv4XB4Wb41"
      },
      "source": [
        "def test_rank_candidates():\n",
        "    questions = ['converting string to list', 'Sending array via Ajax fails']\n",
        "    candidates = [['Convert Google results object (pure js) to Python object', \n",
        "                   'C# create cookie from string and send it',\n",
        "                   'How to use jQuery AJAX for an outside domain?'], \n",
        "                  ['Getting all list items of an unordered list in PHP', \n",
        "                   'WPF- How to update the changes in list item of a list', \n",
        "                   'select2 not displaying search results']]\n",
        "    results = [[(1, 'C# create cookie from string and send it'), \n",
        "                (0, 'Convert Google results object (pure js) to Python object'), \n",
        "                (2, 'How to use jQuery AJAX for an outside domain?')],\n",
        "               [(0, 'Getting all list items of an unordered list in PHP'), \n",
        "                (2, 'select2 not displaying search results'), \n",
        "                (1, 'WPF- How to update the changes in list item of a list')]]\n",
        "    for question, q_candidates, result in zip(questions, candidates, results):\n",
        "        ranks = rank_candidates(question, q_candidates, wv_embeddings, 100)\n",
        "        if not np.all(ranks == result):\n",
        "            return \"Check the function.\"\n",
        "    return \"Basic tests are passed.\""
      ],
      "execution_count": 26,
      "outputs": []
    },
    {
      "cell_type": "code",
      "metadata": {
        "id": "xOcMA8TrWb41",
        "colab": {
          "base_uri": "https://localhost:8080/"
        },
        "outputId": "d9810c2c-87d0-4b8a-dbe4-bc57467be08a"
      },
      "source": [
        "print(test_rank_candidates())"
      ],
      "execution_count": 27,
      "outputs": [
        {
          "output_type": "stream",
          "text": [
            "Basic tests are passed.\n"
          ],
          "name": "stdout"
        }
      ]
    },
    {
      "cell_type": "markdown",
      "metadata": {
        "id": "MYzFOIu9Wb41"
      },
      "source": [
        "Now we can test the quality of the current approach. Run the next two cells to get the results. Pay attention that calculation of similarity between vectors takes time and this calculation is computed approximately in 10 minutes."
      ]
    },
    {
      "cell_type": "code",
      "metadata": {
        "id": "AF7C_4lAWb41"
      },
      "source": [
        "wv_ranking = []\n",
        "for line in validation:\n",
        "    q, *ex = line\n",
        "    ranks = rank_candidates(q, ex, wv_embeddings)\n",
        "    wv_ranking.append([r[0] for r in ranks].index(0) + 1)"
      ],
      "execution_count": 28,
      "outputs": []
    },
    {
      "cell_type": "code",
      "metadata": {
        "id": "1SZ70ggKWb41",
        "colab": {
          "base_uri": "https://localhost:8080/"
        },
        "outputId": "ac106a21-2753-46ea-e5cf-8add5722a368"
      },
      "source": [
        "for k in [1, 5, 10, 100, 500, 1000]:\n",
        "    print(\"DCG@%4d: %.3f | Hits@%4d: %.3f\" % (k, dcg_score(wv_ranking, k), k, hits_count(wv_ranking, k)))"
      ],
      "execution_count": 29,
      "outputs": [
        {
          "output_type": "stream",
          "text": [
            "DCG@   1: 0.209 | Hits@   1: 0.209\n",
            "DCG@   5: 0.263 | Hits@   5: 0.311\n",
            "DCG@  10: 0.279 | Hits@  10: 0.360\n",
            "DCG@ 100: 0.316 | Hits@ 100: 0.548\n",
            "DCG@ 500: 0.349 | Hits@ 500: 0.807\n",
            "DCG@1000: 0.369 | Hits@1000: 1.000\n"
          ],
          "name": "stdout"
        }
      ]
    },
    {
      "cell_type": "markdown",
      "metadata": {
        "id": "exQJnPhHWb41"
      },
      "source": [
        "If you did all the steps correctly, you should be frustrated by the received results. Let's try to understand why the quality is so low. First of all, when you work with some data it is necessary to have an idea how the data looks like. Print several questions from the data:"
      ]
    },
    {
      "cell_type": "code",
      "metadata": {
        "id": "Jze74kBrWb41",
        "colab": {
          "base_uri": "https://localhost:8080/"
        },
        "outputId": "b0758a6d-d53e-4501-dc90-76bb085fd24f"
      },
      "source": [
        "for line in validation[:3]:\n",
        "    q, *examples = line\n",
        "    print(q, *examples[:3])"
      ],
      "execution_count": 30,
      "outputs": [
        {
          "output_type": "stream",
          "text": [
            "How to print a binary heap tree without recursion? How do you best convert a recursive function to an iterative one? How can i use ng-model with directive in angular js flash: drawing and erasing\n",
            "How to start PhoneStateListener programmatically? PhoneStateListener and service Java cast object[] to model WCF and What does this mean?\n",
            "jQuery: Show a div2 when mousenter over div1 is over when hover on div1 depenting on if it is on div2 or not it should act differently How to run selenium in google app engine/cloud? Python Comparing two lists of strings for similarities\n"
          ],
          "name": "stdout"
        }
      ]
    },
    {
      "cell_type": "markdown",
      "metadata": {
        "id": "f3GcrnrqWb41"
      },
      "source": [
        "As you can see, we deal with the raw data. It means that we have many punctuation marks, special characters and unlowercased letters. In our case, it could lead to the situation where we can't find some embeddings, e.g. for the word \"grid?\". \n",
        "\n",
        "To solve this problem you should use the functions *text_prepare* from the previous assignments to prepare the data."
      ]
    },
    {
      "cell_type": "code",
      "metadata": {
        "id": "S58sJqteWb41"
      },
      "source": [
        "from util import text_prepare"
      ],
      "execution_count": 31,
      "outputs": []
    },
    {
      "cell_type": "markdown",
      "metadata": {
        "id": "z6GKAHH_Wb41"
      },
      "source": [
        "Now transform all the questions from the validation set:"
      ]
    },
    {
      "cell_type": "code",
      "metadata": {
        "id": "X9ocD81LWb41"
      },
      "source": [
        "prepared_validation = []\n",
        "for line in validation:\n",
        "  temp = []\n",
        "  for item in line:\n",
        "    temp.append(text_prepare(item))\n",
        "  prepared_validation.append(temp)"
      ],
      "execution_count": 32,
      "outputs": []
    },
    {
      "cell_type": "markdown",
      "metadata": {
        "id": "fXhx9sazWb41"
      },
      "source": [
        "Let's evaluate the approach again after the preparation:"
      ]
    },
    {
      "cell_type": "code",
      "metadata": {
        "id": "V3P8gOjnWb41"
      },
      "source": [
        "wv_prepared_ranking = []\n",
        "for line in prepared_validation:\n",
        "    q, *ex = line\n",
        "    ranks = rank_candidates(q, ex, wv_embeddings)\n",
        "    wv_prepared_ranking.append([r[0] for r in ranks].index(0) + 1)"
      ],
      "execution_count": 33,
      "outputs": []
    },
    {
      "cell_type": "code",
      "metadata": {
        "id": "1U-CyFC-Wb41",
        "colab": {
          "base_uri": "https://localhost:8080/"
        },
        "outputId": "36f982e9-4cb5-4329-9e25-a2fe13b5b682"
      },
      "source": [
        "for k in [1, 5, 10, 100, 500, 1000]:\n",
        "    print(\"DCG@%4d: %.3f | Hits@%4d: %.3f\" % (k, dcg_score(wv_prepared_ranking, k), \n",
        "                                              k, hits_count(wv_prepared_ranking, k)))"
      ],
      "execution_count": 34,
      "outputs": [
        {
          "output_type": "stream",
          "text": [
            "DCG@   1: 0.305 | Hits@   1: 0.305\n",
            "DCG@   5: 0.375 | Hits@   5: 0.438\n",
            "DCG@  10: 0.392 | Hits@  10: 0.489\n",
            "DCG@ 100: 0.425 | Hits@ 100: 0.656\n",
            "DCG@ 500: 0.447 | Hits@ 500: 0.830\n",
            "DCG@1000: 0.465 | Hits@1000: 1.000\n"
          ],
          "name": "stdout"
        }
      ]
    },
    {
      "cell_type": "markdown",
      "metadata": {
        "id": "jorq3010Wb41"
      },
      "source": [
        "Now, prepare also train and test data, because you will need it in the future:"
      ]
    },
    {
      "cell_type": "code",
      "metadata": {
        "id": "LZ2_n7vGWb41"
      },
      "source": [
        "def prepare_file(in_, out_):\n",
        "    out = open(out_, 'w')\n",
        "    for line in open(in_, encoding='utf8'):\n",
        "        line = line.strip().split('\\t')\n",
        "        new_line = [text_prepare(q) for q in line]\n",
        "        print(*new_line, sep='\\t', file=out)\n",
        "    out.close()"
      ],
      "execution_count": 35,
      "outputs": []
    },
    {
      "cell_type": "code",
      "metadata": {
        "id": "y7tm6GEoWb41"
      },
      "source": [
        "prepare_file('data/test.tsv','data/test_proc.tsv')\n",
        "prepare_file('data/train.tsv','data/train_proc.tsv')"
      ],
      "execution_count": 36,
      "outputs": []
    },
    {
      "cell_type": "markdown",
      "metadata": {
        "id": "TpNqPuo5Wb41"
      },
      "source": [
        "**Task 4 (W2VTokenizedRanks).** For each question from prepared *test.tsv* submit the ranks of the candidates to earn the points. The calculations should take about 3-5 minutes. Pay attention that the function *rank_candidates* returns a ranking, while in this case you should find a position in this ranking. Ranks should start with 1."
      ]
    },
    {
      "cell_type": "code",
      "metadata": {
        "id": "8mZuEnknWb42"
      },
      "source": [
        "from util import matrix_to_string"
      ],
      "execution_count": 37,
      "outputs": []
    },
    {
      "cell_type": "code",
      "metadata": {
        "id": "wUNKm8JIWb42",
        "colab": {
          "base_uri": "https://localhost:8080/"
        },
        "outputId": "9501c495-fc3d-48de-ac28-348340e00564"
      },
      "source": [
        "w2v_ranks_results = []\n",
        "prepared_test_data = 'data/test_proc.tsv'\n",
        "for line in open(prepared_test_data):\n",
        "    q, *ex = line.strip().split('\\t')\n",
        "    ranks = rank_candidates(q, ex, wv_embeddings, 300)\n",
        "    ranked_candidates = [r[0] for r in ranks]\n",
        "    w2v_ranks_results.append([ranked_candidates.index(i) + 1 for i in range(len(ranked_candidates))])\n",
        "    \n",
        "grader.submit_tag('W2VTokenizedRanks', matrix_to_string(w2v_ranks_results))"
      ],
      "execution_count": 38,
      "outputs": [
        {
          "output_type": "stream",
          "text": [
            "Current answer for task W2VTokenizedRanks is: 95\t94\t7\t9\t64\t36\t31\t93\t23\t100\t99\t20\t60\t6\t97\t48\t70\t37\t41\t96\t29\t56\t2\t65\t68\t44\t27\t25\t57\t62\t11\t87\t50\t66\t7...\n"
          ],
          "name": "stdout"
        }
      ]
    },
    {
      "cell_type": "markdown",
      "metadata": {
        "id": "2X_b-KRmWb42"
      },
      "source": [
        "## Advanced solution: StarSpace embeddings\n",
        "\n",
        "Now you are ready to train your own word embeddings! In particular, you need to train embeddings specially for our task of duplicates detection. Unfortunately, StarSpace cannot be run on Windows and we recommend to use provided\n",
        "[docker container](https://github.com/hse-aml/natural-language-processing/blob/master/Docker-tutorial.md) or other alternatives. Don't delete results of this task because you will need it in the final project.\n",
        "\n",
        "### How it works and what's the main difference with word2vec?\n",
        "The main point in this section is that StarSpace can be trained specifically for some tasks. In contrast to word2vec model, which tries to train similar embeddings for words in similar contexts, StarSpace uses embeddings for the whole sentence (just as a sum of embeddings of words and phrases). Despite the fact that in both cases we get word embeddings as a result of the training, StarSpace embeddings are trained using some supervised data, e.g. a set of similar sentence pairs, and thus they can better suit the task.\n",
        "\n",
        "In our case, StarSpace should use two types of sentence pairs for training: \"positive\" and \"negative\". \"Positive\" examples are extracted from the train sample (duplicates, high similarity) and the \"negative\" examples are generated randomly (low similarity assumed). \n",
        "\n",
        "### How to choose the best params for the model?\n",
        "Normally, you would start with some default choice and then run extensive experiments to compare different strategies. However, we have some recommendations ready for you to save your time:\n",
        "- Be careful with choosing the suitable training mode. In this task we want to explore texts similarity which corresponds to *trainMode = 3*.\n",
        "- Use adagrad optimization (parameter *adagrad = true*).\n",
        "- Set the length of phrase equal to 1 (parameter *ngrams*), because we need embeddings only for words.\n",
        "- Don't use a large number of *epochs* (we think that 5 should be enough).\n",
        "- Try dimension *dim* equal to 100.\n",
        "- To compare embeddings usually *cosine* *similarity* is used.\n",
        "- Set *minCount* greater than 1 (for example, 2) if you don't want to get embeddings for extremely rare words.\n",
        "- Parameter *verbose = true* could show you the progress of the training process.\n",
        "- Set parameter *fileFormat* equals *labelDoc*.\n",
        "- Parameter *negSearchLimit* is responsible for a number of negative examples which is used during the training. We think that 10 will be enought for this task.\n",
        "- To increase a speed of training we recommend to set *learning rate* to 0.05."
      ]
    },
    {
      "cell_type": "markdown",
      "metadata": {
        "id": "5PQmRacjWb42"
      },
      "source": [
        "Train StarSpace embeddings for unigrams on the train dataset. You don't need to change the format of the input data. Just don't forget to use prepared version of the training data. \n",
        "\n",
        "If you follow the instruction, the training process will take about 1 hour. The size of the embeddings' dictionary should be approximately 100 000 (number of lines in the result file). If you got significantly more than this number, try to check all the instructions above."
      ]
    },
    {
      "cell_type": "code",
      "metadata": {
        "id": "fnTxVHYKWb42",
        "colab": {
          "base_uri": "https://localhost:8080/"
        },
        "outputId": "d9bd8384-1caa-4e56-d90f-3a00f259acdd"
      },
      "source": [
        "######### TRAINING HAPPENING HERE #############\n",
        "!starspace train -trainFile 'data/train_proc.tsv' -model 'stack_overflow_emb_model' -adagrad 1 -label 'page' -trainMode 3 -lr 0.05 -dim 100 -verbose 1  -fileFormat 'labelDoc' -minCount 2"
      ],
      "execution_count": 39,
      "outputs": [
        {
          "output_type": "stream",
          "text": [
            "Arguments: \n",
            "lr: 0.05\n",
            "dim: 100\n",
            "epoch: 5\n",
            "maxTrainTime: 8640000\n",
            "validationPatience: 10\n",
            "saveEveryEpoch: 0\n",
            "loss: hinge\n",
            "margin: 0.05\n",
            "similarity: cosine\n",
            "maxNegSamples: 10\n",
            "negSearchLimit: 50\n",
            "batchSize: 5\n",
            "thread: 10\n",
            "minCount: 2\n",
            "minCountLabel: 1\n",
            "label: page\n",
            "label: page\n",
            "ngrams: 1\n",
            "bucket: 2000000\n",
            "adagrad: 1\n",
            "trainMode: 3\n",
            "fileFormat: labelDoc\n",
            "normalizeText: 0\n",
            "dropoutLHS: 0\n",
            "dropoutRHS: 0\n",
            "useWeight: 0\n",
            "weightSep: :\n",
            "Start to initialize starspace model.\n",
            "Build dict from input file : data/train_proc.tsv\n",
            "Read 12M words\n",
            "Number of words in dictionary:  94913\n",
            "Number of labels in dictionary: 308\n",
            "Loading data from file : data/train_proc.tsv\n",
            "Total number of examples loaded : 999740\n",
            "Initialized model weights. Model size :\n",
            "matrix : 95221 100\n",
            "Training epoch 0: 0.05 0.01\n",
            "Epoch: 100.0%  lr: 0.040000  loss: 0.017948  eta: 0h38m  tot: 0h9m41s  (20.0%)\n",
            " ---+++                Epoch    0 Train error : 0.01808659 +++--- ☃\n",
            "Training epoch 1: 0.04 0.01\n",
            "Epoch: 100.0%  lr: 0.030000  loss: 0.007267  eta: 0h28m  tot: 0h19m9s  (40.0%)\n",
            " ---+++                Epoch    1 Train error : 0.00727083 +++--- ☃\n",
            "Training epoch 2: 0.03 0.01\n",
            "Epoch: 100.0%  lr: 0.020000  loss: 0.005754  eta: 0h18m  tot: 0h28m22s  (60.0%)\n",
            " ---+++                Epoch    2 Train error : 0.00562181 +++--- ☃\n",
            "Training epoch 3: 0.02 0.01\n",
            "Epoch: 100.0%  lr: 0.010010  loss: 0.004871  eta: 0h8m  tot: 0h37m13s  (80.0%)\n",
            " ---+++                Epoch    3 Train error : 0.00481305 +++--- ☃\n",
            "Training epoch 4: 0.01 0.01\n",
            "Epoch: 100.0%  lr: 0.000000  loss: 0.004427  eta: <1min   tot: 0h46m7s  (100.0%)\n",
            " ---+++                Epoch    4 Train error : 0.00440832 +++--- ☃\n",
            "Saving model to file : stack_overflow_emb_model\n",
            "Saving model in tsv format : stack_overflow_emb_model.tsv\n"
          ],
          "name": "stdout"
        }
      ]
    },
    {
      "cell_type": "markdown",
      "metadata": {
        "collapsed": true,
        "id": "cwGOqncnWb43"
      },
      "source": [
        "And now we can compare the new embeddings with the previous ones. You can find trained word vectors in the file *[model_file_name].tsv*. Upload the embeddings from StarSpace into a dict. "
      ]
    },
    {
      "cell_type": "code",
      "metadata": {
        "id": "e0QWQ8J-Wb43"
      },
      "source": [
        "starspace_embeddings = {}\n",
        "entities = []\n",
        "vecs = []\n",
        "\n",
        "for line in open('/content/stack_overflow_emb_model.tsv'):\n",
        "    word, vec = line.split('\\t',1)\n",
        "    entities.append(word)\n",
        "    vecs.append([float(i) for i in vec.split('\\t')])\n",
        "\n",
        "starspace_embeddings = gensim.models.KeyedVectors(100)\n",
        "starspace_embeddings.add(entities, vecs)"
      ],
      "execution_count": 65,
      "outputs": []
    },
    {
      "cell_type": "code",
      "metadata": {
        "id": "vpQ_1NZ2Wb43"
      },
      "source": [
        "ss_prepared_ranking = []\n",
        "for line in prepared_validation:\n",
        "    q, *ex = line\n",
        "    ranks = rank_candidates(q, ex, starspace_embeddings, 100)\n",
        "    ss_prepared_ranking.append([r[0] for r in ranks].index(0) + 1)"
      ],
      "execution_count": 67,
      "outputs": []
    },
    {
      "cell_type": "code",
      "metadata": {
        "id": "ptzno8TVWb43",
        "colab": {
          "base_uri": "https://localhost:8080/"
        },
        "outputId": "a06920e8-7cbf-48bd-ab89-04b7d727f111"
      },
      "source": [
        "for k in [1, 5, 10, 100, 500, 1000]:\n",
        "    print(\"DCG@%4d: %.3f | Hits@%4d: %.3f\" % (k, dcg_score(ss_prepared_ranking, k), \n",
        "                                               k, hits_count(ss_prepared_ranking, k)))"
      ],
      "execution_count": 68,
      "outputs": [
        {
          "output_type": "stream",
          "text": [
            "DCG@   1: 0.535 | Hits@   1: 0.535\n",
            "DCG@   5: 0.628 | Hits@   5: 0.707\n",
            "DCG@  10: 0.648 | Hits@  10: 0.767\n",
            "DCG@ 100: 0.677 | Hits@ 100: 0.907\n",
            "DCG@ 500: 0.686 | Hits@ 500: 0.982\n",
            "DCG@1000: 0.688 | Hits@1000: 1.000\n"
          ],
          "name": "stdout"
        }
      ]
    },
    {
      "cell_type": "markdown",
      "metadata": {
        "id": "koyqoPxcWb43"
      },
      "source": [
        "Due to training for the particular task with the supervised data, you should expect to obtain a higher quality than for the previous approach. In additiion, despite the fact that StarSpace's trained vectors have a smaller dimension than word2vec's, it provides better results in this task."
      ]
    },
    {
      "cell_type": "markdown",
      "metadata": {
        "id": "3HxataVzWb43"
      },
      "source": [
        "**Task 5 (StarSpaceRanks).** For each question from prepared *test.tsv* submit the ranks of the candidates for trained representation."
      ]
    },
    {
      "cell_type": "code",
      "metadata": {
        "id": "swhZTOTZWb43",
        "colab": {
          "base_uri": "https://localhost:8080/"
        },
        "outputId": "97af6327-a1e3-4eb3-fb37-45aca56bc40d"
      },
      "source": [
        "starspace_ranks_results = []\n",
        "prepared_test_data = '/content/data/test_proc.tsv'\n",
        "for line in open(prepared_test_data):\n",
        "    q, *ex = line.strip().split('\\t')\n",
        "    ranks = rank_candidates(q, ex, starspace_embeddings, 100)\n",
        "    ranked_candidates = [r[0] for r in ranks]\n",
        "    starspace_ranks_results.append([ranked_candidates.index(i) + 1 for i in range(len(ranked_candidates))])\n",
        "    \n",
        "grader.submit_tag('StarSpaceRanks', matrix_to_string(starspace_ranks_results))"
      ],
      "execution_count": 69,
      "outputs": [
        {
          "output_type": "stream",
          "text": [
            "Current answer for task StarSpaceRanks is: 62\t89\t65\t41\t33\t93\t94\t86\t32\t36\t35\t13\t59\t69\t96\t74\t19\t53\t34\t80\t92\t49\t1\t90\t72\t38\t68\t82\t61\t8\t46\t67\t88\t30\t...\n"
          ],
          "name": "stdout"
        }
      ]
    },
    {
      "cell_type": "markdown",
      "metadata": {
        "id": "FRbfvD05Wb43"
      },
      "source": [
        "Please, **don't remove** the file with these embeddings because you will need them in the final project."
      ]
    },
    {
      "cell_type": "markdown",
      "metadata": {
        "id": "BpyE0MTDWb43"
      },
      "source": [
        "### Authorization & Submission\n",
        "To submit assignment parts to Cousera platform, please, enter your e-mail and token into variables below. You can generate token on this programming assignment page. <b>Note:</b> Token expires 30 minutes after generation."
      ]
    },
    {
      "cell_type": "code",
      "metadata": {
        "id": "votFhpJqWb43",
        "colab": {
          "base_uri": "https://localhost:8080/"
        },
        "outputId": "19ecff26-685e-45a9-98dd-d4043bf430d2"
      },
      "source": [
        "STUDENT_EMAIL = '#########'\n",
        "STUDENT_TOKEN = 'Y3cn7LX6hzoun9Zg' \n",
        "grader.status()"
      ],
      "execution_count": 70,
      "outputs": [
        {
          "output_type": "stream",
          "text": [
            "You want to submit these parts:\n",
            "Task Question2Vec: 0.019293891059027776\n",
            "-0.028727213541666668\n",
            "0.046056111653645836\n",
            "0.08525933159722222\n",
            "0.02430555555555...\n",
            "Task HitsCount: 1.0\n",
            "0.5\n",
            "1.0\n",
            "0.5\n",
            "1.0\n",
            "0.3333333333333333\n",
            "0.6666666666666666\n",
            "1.0\n",
            "0.1\n",
            "0.2\n",
            "0.3\n",
            "0.4\n",
            "0.5\n",
            "0.6\n",
            "0.7\n",
            "0.8\n",
            "0.9\n",
            "1....\n",
            "Task DCGScore: 1.0\n",
            "0.5\n",
            "0.8154648767857287\n",
            "0.5\n",
            "0.8154648767857287\n",
            "0.3333333333333333\n",
            "0.5436432511904857\n",
            "0.7103099178...\n",
            "Task W2VTokenizedRanks: 95\t94\t7\t9\t64\t36\t31\t93\t23\t100\t99\t20\t60\t6\t97\t48\t70\t37\t41\t96\t29\t56\t2\t65\t68\t44\t27\t25\t57\t62\t11\t87\t50\t66\t7...\n",
            "Task StarSpaceRanks: 62\t89\t65\t41\t33\t93\t94\t86\t32\t36\t35\t13\t59\t69\t96\t74\t19\t53\t34\t80\t92\t49\t1\t90\t72\t38\t68\t82\t61\t8\t46\t67\t88\t30\t...\n"
          ],
          "name": "stdout"
        }
      ]
    },
    {
      "cell_type": "markdown",
      "metadata": {
        "id": "SsaRWRC8Wb43"
      },
      "source": [
        "If you want to submit these answers, run cell below"
      ]
    },
    {
      "cell_type": "code",
      "metadata": {
        "id": "oCzdvccIWb43",
        "colab": {
          "base_uri": "https://localhost:8080/"
        },
        "outputId": "6a7671a6-ecab-4cdc-8d44-31bf3743a3bb"
      },
      "source": [
        "grader.submit(STUDENT_EMAIL, STUDENT_TOKEN)"
      ],
      "execution_count": 71,
      "outputs": [
        {
          "output_type": "stream",
          "text": [
            "Submitted to Coursera platform. See results on assignment page!\n"
          ],
          "name": "stdout"
        }
      ]
    }
  ]
}